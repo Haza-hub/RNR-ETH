{
  "nbformat": 4,
  "nbformat_minor": 0,
  "metadata": {
    "colab": {
      "provenance": [],
      "gpuType": "T4"
    },
    "kernelspec": {
      "name": "python3",
      "display_name": "Python 3"
    },
    "language_info": {
      "name": "python"
    },
    "accelerator": "GPU"
  },
  "cells": [
    {
      "cell_type": "code",
      "execution_count": 7,
      "metadata": {
        "id": "ji5F4Hp_EUtq"
      },
      "outputs": [],
      "source": [
        "import pandas as pd\n",
        "import matplotlib.pyplot as plt\n",
        "\n",
        "# Cargar el dataset\n",
        "df = pd.read_csv('/content/ETH_day.csv')"
      ]
    },
    {
      "cell_type": "code",
      "source": [
        "# Conexión con Google Drive\n",
        "from google.colab import drive\n",
        "drive.mount('/content/drive')\n",
        "\n",
        "# Mostrar las primeras filas y la información básica del dataset\n",
        "print(df.head())\n",
        "print(df.info())\n",
        "\n",
        "# Verificar nombres reales de columnas\n",
        "print(\"Columnas actuales:\", df.columns.tolist())\n",
        "# Limpiar espacios\n",
        "df.columns = df.columns.str.strip()\n",
        "df.columns = df.columns.str.replace(' ', '')\n",
        "print(\"Columnas después de limpieza:\", df.columns.tolist())\n",
        "# Forzar minúsculas\n",
        "df.columns = df.columns.str.lower()\n",
        "print(\"Columnas en minúsculas:\", df.columns.tolist())\n",
        "# Renombrar columnas\n",
        "df = df.rename(columns={\n",
        "    'volumeeth': 'volume_eth',\n",
        "    'volumeusd': 'volume_usd'\n",
        "})\n",
        "# Acceder al índice como serie temporal\n",
        "print(\"Rango temporal:\", df.index.min(), \"a\", df.index.max())"
      ],
      "metadata": {
        "colab": {
          "base_uri": "https://localhost:8080/"
        },
        "id": "p_--ZtmzFeg9",
        "outputId": "344625f0-6bed-4efd-f880-cfad351f3c68"
      },
      "execution_count": 23,
      "outputs": [
        {
          "output_type": "stream",
          "name": "stdout",
          "text": [
            "Drive already mounted at /content/drive; to attempt to forcibly remount, call drive.mount(\"/content/drive\", force_remount=True).\n",
            "         date  symbol    open    high     low   close  volume eth  volume usd  \\\n",
            "0  2020-04-15  ETHUSD  158.61  158.61  158.61  158.61        0.00        0.00   \n",
            "1  2020-04-14  ETHUSD  156.97  162.15  155.74  158.61    18061.58  2872210.44   \n",
            "2  2020-04-13  ETHUSD  158.56  159.51  150.12  156.97    15698.32  2416728.28   \n",
            "3  2020-04-12  ETHUSD  158.66  165.37  155.21  158.56    12877.33  2082804.05   \n",
            "4  2020-04-11  ETHUSD  158.26  161.49  154.25  158.66    13761.72  2172914.57   \n",
            "\n",
            "    returns  volatility  \n",
            "0       NaN         NaN  \n",
            "1  0.000000         NaN  \n",
            "2 -0.010340         NaN  \n",
            "3  0.010129         NaN  \n",
            "4  0.000631         NaN  \n",
            "<class 'pandas.core.frame.DataFrame'>\n",
            "RangeIndex: 1438 entries, 0 to 1437\n",
            "Data columns (total 10 columns):\n",
            " #   Column      Non-Null Count  Dtype  \n",
            "---  ------      --------------  -----  \n",
            " 0   date        1438 non-null   object \n",
            " 1   symbol      1438 non-null   object \n",
            " 2   open        1438 non-null   float64\n",
            " 3   high        1438 non-null   float64\n",
            " 4   low         1438 non-null   float64\n",
            " 5   close       1438 non-null   float64\n",
            " 6   volume eth  1438 non-null   float64\n",
            " 7   volume usd  1438 non-null   float64\n",
            " 8   returns     1437 non-null   float64\n",
            " 9   volatility  1409 non-null   float64\n",
            "dtypes: float64(8), object(2)\n",
            "memory usage: 112.5+ KB\n",
            "None\n",
            "Columnas actuales: ['date', 'symbol', 'open', 'high', 'low', 'close', 'volume eth', 'volume usd', 'returns', 'volatility']\n",
            "Columnas después de limpieza: ['date', 'symbol', 'open', 'high', 'low', 'close', 'volumeeth', 'volumeusd', 'returns', 'volatility']\n",
            "Columnas en minúsculas: ['date', 'symbol', 'open', 'high', 'low', 'close', 'volumeeth', 'volumeusd', 'returns', 'volatility']\n",
            "Rango temporal: 0 a 1437\n",
            "\n",
            "Ejemplo de fechas: Index([192, 601, 1338, 514, 141, 798, 674, 399, 434, 98], dtype='int64')\n"
          ]
        }
      ]
    },
    {
      "cell_type": "code",
      "source": [
        "# Verificar el index\n",
        "print(\"Tipo del índice:\", type(df.index))\n",
        "\n",
        "# Visualización\n",
        "plt.figure(figsize=(12,6))\n",
        "plt.plot(df.index, df['close'], label='Precio de Cierre')  # Usar minúscula 'close'\n",
        "plt.xlabel('Fecha')\n",
        "plt.ylabel('Precio en ETH-USD')\n",
        "plt.title('Evolución diaria del precio de Ethereum')\n",
        "plt.legend()\n",
        "plt.show()\n",
        "\n",
        "# Renombrar columnas\n",
        "df = df.rename(columns={\n",
        "    'volumeeth': 'volume_eth',\n",
        "    'volumeusd': 'volume_usd'\n",
        "})"
      ],
      "metadata": {
        "colab": {
          "base_uri": "https://localhost:8080/",
          "height": 582
        },
        "id": "M_aKelzFGZBa",
        "outputId": "4a227f2b-be6a-4f7b-9e8a-63ec0daa1810"
      },
      "execution_count": 27,
      "outputs": [
        {
          "output_type": "stream",
          "name": "stdout",
          "text": [
            "Tipo del índice: <class 'pandas.core.indexes.range.RangeIndex'>\n"
          ]
        },
        {
          "output_type": "display_data",
          "data": {
            "text/plain": [
              "<Figure size 1200x600 with 1 Axes>"
            ],
            "image/png": "[encoded data removed]"
          },
          "metadata": {}
        }
      ]
    },
    {
      "cell_type": "code",
      "source": [
        "import numpy as np\n",
        "from sklearn.preprocessing import MinMaxScaler\n",
        "from sklearn.model_selection import TimeSeriesSplit\n",
        "\n",
        "# 1. Verificación y preparación de datos\n",
        "df = df.sort_index(ascending=True)\n",
        "\n",
        "# 2. Normalización (evitar data leakage)\n",
        "scaler = MinMaxScaler(feature_range=(0, 1))\n",
        "scaled_data = scaler.fit_transform(df[['close']])\n",
        "\n",
        "# 3. Función para creación de secuencias\n",
        "def create_sequences(data, window_size, forecast_horizon=1):\n",
        "    X, y = [], []\n",
        "    for i in range(len(data) - window_size - forecast_horizon + 1):\n",
        "        X.append(data[i:i+window_size])\n",
        "        y.append(data[i+window_size:i+window_size+forecast_horizon])\n",
        "    return np.array(X), np.array(y)\n",
        "\n",
        "# 4. Hiperparámetros\n",
        "WINDOW_SIZE = 60  # Capturar más historia (2 meses)\n",
        "FORECAST_HORIZON = 1  # Predecir 1 día adelante\n",
        "\n",
        "# 5. Creación de secuencias\n",
        "X, y = create_sequences(scaled_data, WINDOW_SIZE, FORECAST_HORIZON)\n",
        "\n",
        "# 6. División temporal de datos\n",
        "train_size = int(len(X) * 0.8)\n",
        "val_size = int(len(X) * 0.1)\n",
        "\n",
        "X_train, y_train = X[:train_size], y[:train_size]\n",
        "X_val, y_val = X[train_size:train_size+val_size], y[train_size:train_size+val_size]\n",
        "X_test, y_test = X[train_size+val_size:], y[train_size+val_size:]\n",
        "\n",
        "# 7. Reformateo para LSTM (muestras, pasos temporales, características)\n",
        "X_train = X_train.reshape((X_train.shape[0], X_train.shape[1], 1))\n",
        "X_val = X_val.reshape((X_val.shape[0], X_val.shape[1], 1))\n",
        "X_test = X_test.reshape((X_test.shape[0], X_test.shape[1], 1))\n",
        "\n",
        "print(f\"Forma final de los datos:\")\n",
        "print(f\"Entrenamiento: X{X_train.shape} y{y_train.shape}\")\n",
        "print(f\"Validación: X{X_val.shape} y{y_val.shape}\")\n",
        "print(f\"Test: X{X_test.shape} y{y_test.shape}\")"
      ],
      "metadata": {
        "colab": {
          "base_uri": "https://localhost:8080/"
        },
        "id": "lOWlaAZQKYQW",
        "outputId": "35b937c7-ba51-4eef-aacd-6c681cd1e278"
      },
      "execution_count": 28,
      "outputs": [
        {
          "output_type": "stream",
          "name": "stdout",
          "text": [
            "Forma final de los datos:\n",
            "Entrenamiento: X(1102, 60, 1) y(1102, 1, 1)\n",
            "Validación: X(137, 60, 1) y(137, 1, 1)\n",
            "Test: X(139, 60, 1) y(139, 1, 1)\n"
          ]
        }
      ]
    },
    {
      "cell_type": "code",
      "source": [
        "from tensorflow.keras.layers import Layer, LSTM, Dense, Dropout, Bidirectional, LayerNormalization\n",
        "from tensorflow.keras.regularizers import l1, l2\n",
        "from tensorflow.keras.metrics import RootMeanSquaredError, MeanAbsoluteError\n",
        "from tensorflow.keras.callbacks import EarlyStopping, ModelCheckpoint, TensorBoard\n",
        "import tensorflow as tf\n",
        "\n",
        "# Split temporal (evita look-ahead bias)\n",
        "def temporal_train_test_split(X, y, test_size=0.15):\n",
        "    split_idx = int(len(X) * (1 - test_size))\n",
        "    return X[:split_idx], X[split_idx:], y[:split_idx], y[split_idx:]\n",
        "\n",
        "# Implementación del mecanismo de atención\n",
        "class TemporalAttention(tf.keras.layers.Layer):\n",
        "    def __init__(self, units):\n",
        "        super().__init__()\n",
        "        self.W1 = tf.keras.layers.Dense(units)\n",
        "        self.W2 = tf.keras.layers.Dense(units)\n",
        "        self.V = tf.keras.layers.Dense(1)\n",
        "\n",
        "    def call(self, inputs):\n",
        "        # inputs shape: (batch_size, time_steps, features)\n",
        "        hidden_states = inputs\n",
        "\n",
        "        # Calcula scores de atención\n",
        "        score = self.V(tf.nn.tanh(\n",
        "            self.W1(hidden_states) + self.W2(hidden_states)\n",
        "        ))\n",
        "\n",
        "        attention_weights = tf.nn.softmax(score, axis=1)\n",
        "\n",
        "        # Aplica los pesos de atención\n",
        "        context_vector = attention_weights * hidden_states\n",
        "\n",
        "        return context_vector  # Mantenemos la dimensión temporal\n",
        "\n",
        "# Modelo\n",
        "def create_enhanced_model(input_shape):\n",
        "    model = tf.keras.Sequential()\n",
        "\n",
        "    # Capa Bidireccional\n",
        "    model.add(Bidirectional(\n",
        "        LSTM(128, return_sequences=True),\n",
        "        input_shape=input_shape\n",
        "    ))\n",
        "    model.add(LayerNormalization())\n",
        "    model.add(Dropout(0.3))\n",
        "\n",
        "    # Atención Temporal\n",
        "    model.add(TemporalAttention(64))\n",
        "    model.add(Dropout(0.2))\n",
        "\n",
        "    # LSTM Final\n",
        "    model.add(LSTM(96, kernel_regularizer=l2(0.001)))\n",
        "    model.add(Dropout(0.25))\n",
        "\n",
        "    # Capas Densas\n",
        "    model.add(Dense(32, activation='swish'))\n",
        "    model.add(Dense(1))\n",
        "\n",
        "    # Optimizador Adam\n",
        "    optimizer = tf.keras.optimizers.Adam(\n",
        "        learning_rate=0.001,\n",
        "        beta_1=0.9,\n",
        "        beta_2=0.999,\n",
        "        amsgrad=True\n",
        "    )\n",
        "\n",
        "    model.compile(\n",
        "        optimizer=optimizer,\n",
        "        loss=tf.keras.losses.Huber(),\n",
        "        metrics=[\n",
        "            tf.keras.metrics.RootMeanSquaredError(),\n",
        "            tf.keras.metrics.MeanAbsoluteError()\n",
        "        ]\n",
        "    )\n",
        "\n",
        "    return model, history\n",
        "#Verificando\n",
        "print(\"Funciones de pérdida disponibles:\",\n",
        "      [func for func in dir(tf.keras.losses) if func.endswith('Loss') or func == 'Huber'])"
      ],
      "metadata": {
        "colab": {
          "base_uri": "https://localhost:8080/"
        },
        "id": "OHBacZ47Xkxw",
        "outputId": "0b02cc3c-f2e2-47d9-c257-a93b8003d5ee"
      },
      "execution_count": 67,
      "outputs": [
        {
          "output_type": "stream",
          "name": "stdout",
          "text": [
            "Funciones de pérdida disponibles: ['Huber', 'Loss']\n"
          ]
        }
      ]
    },
    {
      "cell_type": "code",
      "source": [
        "#Verificación de Dimensiones\n",
        "\n",
        "print(f\"X_train shape: {X_train.shape}\")  # Debe ser (muestras, 60, 4)\n",
        "print(f\"y_train shape: {y_train.shape}\")  # Debe ser (muestras, 1)"
      ],
      "metadata": {
        "colab": {
          "base_uri": "https://localhost:8080/"
        },
        "id": "9_qeyD2Ubv1d",
        "outputId": "3e34d92a-4c84-4c59-a483-c5aa71874d52"
      },
      "execution_count": 61,
      "outputs": [
        {
          "output_type": "stream",
          "name": "stdout",
          "text": [
            "X_train shape: (944, 60, 4)\n",
            "y_train shape: (944, 1)\n"
          ]
        }
      ]
    },
    {
      "cell_type": "code",
      "source": [
        "# 1. Crear modelo\n",
        "model, _ = create_enhanced_model((WINDOW_SIZE, 4))  # Input shape: (60, 4)\n",
        "model.summary()\n",
        "\n",
        "# 2. Entrenamiento con datos multidimensionales\n",
        "history = model.fit(\n",
        "    X_train, y_train,\n",
        "    validation_data=(X_val, y_val),\n",
        "    epochs=100,\n",
        "    batch_size=64,\n",
        "    callbacks=[\n",
        "        EarlyStopping(monitor='val_loss', patience=15, mode='min'),\n",
        "        ModelCheckpoint('best_multifeature_model.h5', save_best_only=True)\n",
        "    ],\n",
        "    verbose=1\n",
        ")\n",
        "\n",
        "\n",
        "\n",
        "# 3. Verificación final de dimensiones\n",
        "print(\"\\nVerificación dimensional:\")\n",
        "print(f\"X_train shape: {X_train.shape} → (muestras, window_size, features)\")\n",
        "print(f\"y_train shape: {y_train.shape} → (muestras, horizonte_predicción)\")\n",
        "print(f\"Input del modelo: {model.input_shape} → (batch_size, 60, 4)\")"
      ],
      "metadata": {
        "colab": {
          "base_uri": "https://localhost:8080/",
          "height": 1000
        },
        "id": "C3AbMnGzZPG2",
        "outputId": "804b0281-2c02-43f0-cd63-ebdfd8085ee7"
      },
      "execution_count": 66,
      "outputs": [
        {
          "output_type": "stream",
          "name": "stderr",
          "text": [
            "/usr/local/lib/python3.11/dist-packages/keras/src/layers/rnn/bidirectional.py:107: UserWarning: Do not pass an `input_shape`/`input_dim` argument to a layer. When using Sequential models, prefer using an `Input(shape)` object as the first layer in the model instead.\n",
            "  super().__init__(**kwargs)\n"
          ]
        },
        {
          "output_type": "display_data",
          "data": {
            "text/plain": [
              "\u001b[1mModel: \"sequential_18\"\u001b[0m\n"
            ],
            "text/html": [
              "<pre style=\"white-space:pre;overflow-x:auto;line-height:normal;font-family:Menlo,'DejaVu Sans Mono',consolas,'Courier New',monospace\"><span style=\"font-weight: bold\">Model: \"sequential_18\"</span>\n",
              "</pre>\n"
            ]
          },
          "metadata": {}
        },
        {
          "output_type": "display_data",
          "data": {
            "text/plain": [
              "┏━━━━━━━━━━━━━━━━━━━━━━━━━━━━━━━━━┳━━━━━━━━━━━━━━━━━━━━━━━━┳━━━━━━━━━━━━━━━┓\n",
              "┃\u001b[1m \u001b[0m\u001b[1mLayer (type)                   \u001b[0m\u001b[1m \u001b[0m┃\u001b[1m \u001b[0m\u001b[1mOutput Shape          \u001b[0m\u001b[1m \u001b[0m┃\u001b[1m \u001b[0m\u001b[1m      Param #\u001b[0m\u001b[1m \u001b[0m┃\n",
              "┡━━━━━━━━━━━━━━━━━━━━━━━━━━━━━━━━━╇━━━━━━━━━━━━━━━━━━━━━━━━╇━━━━━━━━━━━━━━━┩\n",
              "│ bidirectional_18                │ (\u001b[38;5;45mNone\u001b[0m, \u001b[38;5;34m60\u001b[0m, \u001b[38;5;34m256\u001b[0m)        │       \u001b[38;5;34m136,192\u001b[0m │\n",
              "│ (\u001b[38;5;33mBidirectional\u001b[0m)                 │                        │               │\n",
              "├─────────────────────────────────┼────────────────────────┼───────────────┤\n",
              "│ layer_normalization_14          │ (\u001b[38;5;45mNone\u001b[0m, \u001b[38;5;34m60\u001b[0m, \u001b[38;5;34m256\u001b[0m)        │           \u001b[38;5;34m512\u001b[0m │\n",
              "│ (\u001b[38;5;33mLayerNormalization\u001b[0m)            │                        │               │\n",
              "├─────────────────────────────────┼────────────────────────┼───────────────┤\n",
              "│ dropout_45 (\u001b[38;5;33mDropout\u001b[0m)            │ (\u001b[38;5;45mNone\u001b[0m, \u001b[38;5;34m60\u001b[0m, \u001b[38;5;34m256\u001b[0m)        │             \u001b[38;5;34m0\u001b[0m │\n",
              "├─────────────────────────────────┼────────────────────────┼───────────────┤\n",
              "│ temporal_attention_14           │ (\u001b[38;5;45mNone\u001b[0m, \u001b[38;5;34m60\u001b[0m, \u001b[38;5;34m256\u001b[0m)        │        \u001b[38;5;34m32,961\u001b[0m │\n",
              "│ (\u001b[38;5;33mTemporalAttention\u001b[0m)             │                        │               │\n",
              "├─────────────────────────────────┼────────────────────────┼───────────────┤\n",
              "│ dropout_46 (\u001b[38;5;33mDropout\u001b[0m)            │ (\u001b[38;5;45mNone\u001b[0m, \u001b[38;5;34m60\u001b[0m, \u001b[38;5;34m256\u001b[0m)        │             \u001b[38;5;34m0\u001b[0m │\n",
              "├─────────────────────────────────┼────────────────────────┼───────────────┤\n",
              "│ lstm_41 (\u001b[38;5;33mLSTM\u001b[0m)                  │ (\u001b[38;5;45mNone\u001b[0m, \u001b[38;5;34m96\u001b[0m)             │       \u001b[38;5;34m135,552\u001b[0m │\n",
              "├─────────────────────────────────┼────────────────────────┼───────────────┤\n",
              "│ dropout_47 (\u001b[38;5;33mDropout\u001b[0m)            │ (\u001b[38;5;45mNone\u001b[0m, \u001b[38;5;34m96\u001b[0m)             │             \u001b[38;5;34m0\u001b[0m │\n",
              "├─────────────────────────────────┼────────────────────────┼───────────────┤\n",
              "│ dense_77 (\u001b[38;5;33mDense\u001b[0m)                │ (\u001b[38;5;45mNone\u001b[0m, \u001b[38;5;34m32\u001b[0m)             │         \u001b[38;5;34m3,104\u001b[0m │\n",
              "├─────────────────────────────────┼────────────────────────┼───────────────┤\n",
              "│ dense_78 (\u001b[38;5;33mDense\u001b[0m)                │ (\u001b[38;5;45mNone\u001b[0m, \u001b[38;5;34m1\u001b[0m)              │            \u001b[38;5;34m33\u001b[0m │\n",
              "└─────────────────────────────────┴────────────────────────┴───────────────┘\n"
            ],
            "text/html": [
              "<pre style=\"white-space:pre;overflow-x:auto;line-height:normal;font-family:Menlo,'DejaVu Sans Mono',consolas,'Courier New',monospace\">┏━━━━━━━━━━━━━━━━━━━━━━━━━━━━━━━━━┳━━━━━━━━━━━━━━━━━━━━━━━━┳━━━━━━━━━━━━━━━┓\n",
              "┃<span style=\"font-weight: bold\"> Layer (type)                    </span>┃<span style=\"font-weight: bold\"> Output Shape           </span>┃<span style=\"font-weight: bold\">       Param # </span>┃\n",
              "┡━━━━━━━━━━━━━━━━━━━━━━━━━━━━━━━━━╇━━━━━━━━━━━━━━━━━━━━━━━━╇━━━━━━━━━━━━━━━┩\n",
              "│ bidirectional_18                │ (<span style=\"color: #00d7ff; text-decoration-color: #00d7ff\">None</span>, <span style=\"color: #00af00; text-decoration-color: #00af00\">60</span>, <span style=\"color: #00af00; text-decoration-color: #00af00\">256</span>)        │       <span style=\"color: #00af00; text-decoration-color: #00af00\">136,192</span> │\n",
              "│ (<span style=\"color: #0087ff; text-decoration-color: #0087ff\">Bidirectional</span>)                 │                        │               │\n",
              "├─────────────────────────────────┼────────────────────────┼───────────────┤\n",
              "│ layer_normalization_14          │ (<span style=\"color: #00d7ff; text-decoration-color: #00d7ff\">None</span>, <span style=\"color: #00af00; text-decoration-color: #00af00\">60</span>, <span style=\"color: #00af00; text-decoration-color: #00af00\">256</span>)        │           <span style=\"color: #00af00; text-decoration-color: #00af00\">512</span> │\n",
              "│ (<span style=\"color: #0087ff; text-decoration-color: #0087ff\">LayerNormalization</span>)            │                        │               │\n",
              "├─────────────────────────────────┼────────────────────────┼───────────────┤\n",
              "│ dropout_45 (<span style=\"color: #0087ff; text-decoration-color: #0087ff\">Dropout</span>)            │ (<span style=\"color: #00d7ff; text-decoration-color: #00d7ff\">None</span>, <span style=\"color: #00af00; text-decoration-color: #00af00\">60</span>, <span style=\"color: #00af00; text-decoration-color: #00af00\">256</span>)        │             <span style=\"color: #00af00; text-decoration-color: #00af00\">0</span> │\n",
              "├─────────────────────────────────┼────────────────────────┼───────────────┤\n",
              "│ temporal_attention_14           │ (<span style=\"color: #00d7ff; text-decoration-color: #00d7ff\">None</span>, <span style=\"color: #00af00; text-decoration-color: #00af00\">60</span>, <span style=\"color: #00af00; text-decoration-color: #00af00\">256</span>)        │        <span style=\"color: #00af00; text-decoration-color: #00af00\">32,961</span> │\n",
              "│ (<span style=\"color: #0087ff; text-decoration-color: #0087ff\">TemporalAttention</span>)             │                        │               │\n",
              "├─────────────────────────────────┼────────────────────────┼───────────────┤\n",
              "│ dropout_46 (<span style=\"color: #0087ff; text-decoration-color: #0087ff\">Dropout</span>)            │ (<span style=\"color: #00d7ff; text-decoration-color: #00d7ff\">None</span>, <span style=\"color: #00af00; text-decoration-color: #00af00\">60</span>, <span style=\"color: #00af00; text-decoration-color: #00af00\">256</span>)        │             <span style=\"color: #00af00; text-decoration-color: #00af00\">0</span> │\n",
              "├─────────────────────────────────┼────────────────────────┼───────────────┤\n",
              "│ lstm_41 (<span style=\"color: #0087ff; text-decoration-color: #0087ff\">LSTM</span>)                  │ (<span style=\"color: #00d7ff; text-decoration-color: #00d7ff\">None</span>, <span style=\"color: #00af00; text-decoration-color: #00af00\">96</span>)             │       <span style=\"color: #00af00; text-decoration-color: #00af00\">135,552</span> │\n",
              "├─────────────────────────────────┼────────────────────────┼───────────────┤\n",
              "│ dropout_47 (<span style=\"color: #0087ff; text-decoration-color: #0087ff\">Dropout</span>)            │ (<span style=\"color: #00d7ff; text-decoration-color: #00d7ff\">None</span>, <span style=\"color: #00af00; text-decoration-color: #00af00\">96</span>)             │             <span style=\"color: #00af00; text-decoration-color: #00af00\">0</span> │\n",
              "├─────────────────────────────────┼────────────────────────┼───────────────┤\n",
              "│ dense_77 (<span style=\"color: #0087ff; text-decoration-color: #0087ff\">Dense</span>)                │ (<span style=\"color: #00d7ff; text-decoration-color: #00d7ff\">None</span>, <span style=\"color: #00af00; text-decoration-color: #00af00\">32</span>)             │         <span style=\"color: #00af00; text-decoration-color: #00af00\">3,104</span> │\n",
              "├─────────────────────────────────┼────────────────────────┼───────────────┤\n",
              "│ dense_78 (<span style=\"color: #0087ff; text-decoration-color: #0087ff\">Dense</span>)                │ (<span style=\"color: #00d7ff; text-decoration-color: #00d7ff\">None</span>, <span style=\"color: #00af00; text-decoration-color: #00af00\">1</span>)              │            <span style=\"color: #00af00; text-decoration-color: #00af00\">33</span> │\n",
              "└─────────────────────────────────┴────────────────────────┴───────────────┘\n",
              "</pre>\n"
            ]
          },
          "metadata": {}
        },
        {
          "output_type": "display_data",
          "data": {
            "text/plain": [
              "\u001b[1m Total params: \u001b[0m\u001b[38;5;34m308,354\u001b[0m (1.18 MB)\n"
            ],
            "text/html": [
              "<pre style=\"white-space:pre;overflow-x:auto;line-height:normal;font-family:Menlo,'DejaVu Sans Mono',consolas,'Courier New',monospace\"><span style=\"font-weight: bold\"> Total params: </span><span style=\"color: #00af00; text-decoration-color: #00af00\">308,354</span> (1.18 MB)\n",
              "</pre>\n"
            ]
          },
          "metadata": {}
        },
        {
          "output_type": "display_data",
          "data": {
            "text/plain": [
              "\u001b[1m Trainable params: \u001b[0m\u001b[38;5;34m308,354\u001b[0m (1.18 MB)\n"
            ],
            "text/html": [
              "<pre style=\"white-space:pre;overflow-x:auto;line-height:normal;font-family:Menlo,'DejaVu Sans Mono',consolas,'Courier New',monospace\"><span style=\"font-weight: bold\"> Trainable params: </span><span style=\"color: #00af00; text-decoration-color: #00af00\">308,354</span> (1.18 MB)\n",
              "</pre>\n"
            ]
          },
          "metadata": {}
        },
        {
          "output_type": "display_data",
          "data": {
            "text/plain": [
              "\u001b[1m Non-trainable params: \u001b[0m\u001b[38;5;34m0\u001b[0m (0.00 B)\n"
            ],
            "text/html": [
              "<pre style=\"white-space:pre;overflow-x:auto;line-height:normal;font-family:Menlo,'DejaVu Sans Mono',consolas,'Courier New',monospace\"><span style=\"font-weight: bold\"> Non-trainable params: </span><span style=\"color: #00af00; text-decoration-color: #00af00\">0</span> (0.00 B)\n",
              "</pre>\n"
            ]
          },
          "metadata": {}
        },
        {
          "output_type": "stream",
          "name": "stdout",
          "text": [
            "Epoch 1/100\n",
            "\u001b[1m14/15\u001b[0m \u001b[32m━━━━━━━━━━━━━━━━━━\u001b[0m\u001b[37m━━\u001b[0m \u001b[1m0s\u001b[0m 23ms/step - loss: 0.2977 - mean_absolute_error: 0.1286 - root_mean_squared_error: 0.1828"
          ]
        },
        {
          "output_type": "stream",
          "name": "stderr",
          "text": [
            "WARNING:absl:You are saving your model as an HDF5 file via `model.save()` or `keras.saving.save_model(model)`. This file format is considered legacy. We recommend using instead the native Keras format, e.g. `model.save('my_model.keras')` or `keras.saving.save_model(model, 'my_model.keras')`. \n"
          ]
        },
        {
          "output_type": "stream",
          "name": "stdout",
          "text": [
            "\b\b\b\b\b\b\b\b\b\b\b\b\b\b\b\b\b\b\b\b\b\b\b\b\b\b\b\b\b\b\b\b\b\b\b\b\b\b\b\b\b\b\b\b\b\b\b\b\b\b\b\b\b\b\b\b\b\b\b\b\b\b\b\b\b\b\b\b\b\b\b\b\b\b\b\b\b\b\b\b\b\b\b\b\b\b\b\b\b\b\b\b\b\b\b\b\b\b\b\b\b\b\b\b\b\b\b\b\b\b\b\b\b\b\b\b\b\b\r\u001b[1m15/15\u001b[0m \u001b[32m━━━━━━━━━━━━━━━━━━━━\u001b[0m\u001b[37m\u001b[0m \u001b[1m6s\u001b[0m 68ms/step - loss: 0.2931 - mean_absolute_error: 0.1234 - root_mean_squared_error: 0.1767 - val_loss: 0.1968 - val_mean_absolute_error: 0.0786 - val_root_mean_squared_error: 0.0826\n",
            "Epoch 2/100\n",
            "\u001b[1m14/15\u001b[0m \u001b[32m━━━━━━━━━━━━━━━━━━\u001b[0m\u001b[37m━━\u001b[0m \u001b[1m0s\u001b[0m 17ms/step - loss: 0.1764 - mean_absolute_error: 0.0458 - root_mean_squared_error: 0.0642"
          ]
        },
        {
          "output_type": "stream",
          "name": "stderr",
          "text": [
            "WARNING:absl:You are saving your model as an HDF5 file via `model.save()` or `keras.saving.save_model(model)`. This file format is considered legacy. We recommend using instead the native Keras format, e.g. `model.save('my_model.keras')` or `keras.saving.save_model(model, 'my_model.keras')`. \n"
          ]
        },
        {
          "output_type": "stream",
          "name": "stdout",
          "text": [
            "\b\b\b\b\b\b\b\b\b\b\b\b\b\b\b\b\b\b\b\b\b\b\b\b\b\b\b\b\b\b\b\b\b\b\b\b\b\b\b\b\b\b\b\b\b\b\b\b\b\b\b\b\b\b\b\b\b\b\b\b\b\b\b\b\b\b\b\b\b\b\b\b\b\b\b\b\b\b\b\b\b\b\b\b\b\b\b\b\b\b\b\b\b\b\b\b\b\b\b\b\b\b\b\b\b\b\b\b\b\b\b\b\b\b\b\b\b\b\r\u001b[1m15/15\u001b[0m \u001b[32m━━━━━━━━━━━━━━━━━━━━\u001b[0m\u001b[37m\u001b[0m \u001b[1m0s\u001b[0m 30ms/step - loss: 0.1739 - mean_absolute_error: 0.0453 - root_mean_squared_error: 0.0636 - val_loss: 0.1179 - val_mean_absolute_error: 0.0743 - val_root_mean_squared_error: 0.0764\n",
            "Epoch 3/100\n",
            "\u001b[1m13/15\u001b[0m \u001b[32m━━━━━━━━━━━━━━━━━\u001b[0m\u001b[37m━━━\u001b[0m \u001b[1m0s\u001b[0m 15ms/step - loss: 0.1051 - mean_absolute_error: 0.0369 - root_mean_squared_error: 0.0543"
          ]
        },
        {
          "output_type": "stream",
          "name": "stderr",
          "text": [
            "WARNING:absl:You are saving your model as an HDF5 file via `model.save()` or `keras.saving.save_model(model)`. This file format is considered legacy. We recommend using instead the native Keras format, e.g. `model.save('my_model.keras')` or `keras.saving.save_model(model, 'my_model.keras')`. \n"
          ]
        },
        {
          "output_type": "stream",
          "name": "stdout",
          "text": [
            "\b\b\b\b\b\b\b\b\b\b\b\b\b\b\b\b\b\b\b\b\b\b\b\b\b\b\b\b\b\b\b\b\b\b\b\b\b\b\b\b\b\b\b\b\b\b\b\b\b\b\b\b\b\b\b\b\b\b\b\b\b\b\b\b\b\b\b\b\b\b\b\b\b\b\b\b\b\b\b\b\b\b\b\b\b\b\b\b\b\b\b\b\b\b\b\b\b\b\b\b\b\b\b\b\b\b\b\b\b\b\b\b\b\b\b\b\b\b\r\u001b[1m15/15\u001b[0m \u001b[32m━━━━━━━━━━━━━━━━━━━━\u001b[0m\u001b[37m\u001b[0m \u001b[1m0s\u001b[0m 27ms/step - loss: 0.1026 - mean_absolute_error: 0.0368 - root_mean_squared_error: 0.0544 - val_loss: 0.0687 - val_mean_absolute_error: 0.0763 - val_root_mean_squared_error: 0.0786\n",
            "Epoch 4/100\n",
            "\u001b[1m12/15\u001b[0m \u001b[32m━━━━━━━━━━━━━━━━\u001b[0m\u001b[37m━━━━\u001b[0m \u001b[1m0s\u001b[0m 16ms/step - loss: 0.0607 - mean_absolute_error: 0.0346 - root_mean_squared_error: 0.0522"
          ]
        },
        {
          "output_type": "stream",
          "name": "stderr",
          "text": [
            "WARNING:absl:You are saving your model as an HDF5 file via `model.save()` or `keras.saving.save_model(model)`. This file format is considered legacy. We recommend using instead the native Keras format, e.g. `model.save('my_model.keras')` or `keras.saving.save_model(model, 'my_model.keras')`. \n"
          ]
        },
        {
          "output_type": "stream",
          "name": "stdout",
          "text": [
            "\b\b\b\b\b\b\b\b\b\b\b\b\b\b\b\b\b\b\b\b\b\b\b\b\b\b\b\b\b\b\b\b\b\b\b\b\b\b\b\b\b\b\b\b\b\b\b\b\b\b\b\b\b\b\b\b\b\b\b\b\b\b\b\b\b\b\b\b\b\b\b\b\b\b\b\b\b\b\b\b\b\b\b\b\b\b\b\b\b\b\b\b\b\b\b\b\b\b\b\b\b\b\b\b\b\b\b\b\b\b\b\b\b\b\b\b\b\b\r\u001b[1m15/15\u001b[0m \u001b[32m━━━━━━━━━━━━━━━━━━━━\u001b[0m\u001b[37m\u001b[0m \u001b[1m1s\u001b[0m 29ms/step - loss: 0.0587 - mean_absolute_error: 0.0340 - root_mean_squared_error: 0.0514 - val_loss: 0.0398 - val_mean_absolute_error: 0.0815 - val_root_mean_squared_error: 0.0835\n",
            "Epoch 5/100\n",
            "\u001b[1m13/15\u001b[0m \u001b[32m━━━━━━━━━━━━━━━━━\u001b[0m\u001b[37m━━━\u001b[0m \u001b[1m0s\u001b[0m 15ms/step - loss: 0.0337 - mean_absolute_error: 0.0346 - root_mean_squared_error: 0.0503"
          ]
        },
        {
          "output_type": "stream",
          "name": "stderr",
          "text": [
            "WARNING:absl:You are saving your model as an HDF5 file via `model.save()` or `keras.saving.save_model(model)`. This file format is considered legacy. We recommend using instead the native Keras format, e.g. `model.save('my_model.keras')` or `keras.saving.save_model(model, 'my_model.keras')`. \n"
          ]
        },
        {
          "output_type": "stream",
          "name": "stdout",
          "text": [
            "\b\b\b\b\b\b\b\b\b\b\b\b\b\b\b\b\b\b\b\b\b\b\b\b\b\b\b\b\b\b\b\b\b\b\b\b\b\b\b\b\b\b\b\b\b\b\b\b\b\b\b\b\b\b\b\b\b\b\b\b\b\b\b\b\b\b\b\b\b\b\b\b\b\b\b\b\b\b\b\b\b\b\b\b\b\b\b\b\b\b\b\b\b\b\b\b\b\b\b\b\b\b\b\b\b\b\b\b\b\b\b\b\b\b\b\b\b\b\r\u001b[1m15/15\u001b[0m \u001b[32m━━━━━━━━━━━━━━━━━━━━\u001b[0m\u001b[37m\u001b[0m \u001b[1m0s\u001b[0m 26ms/step - loss: 0.0328 - mean_absolute_error: 0.0342 - root_mean_squared_error: 0.0498 - val_loss: 0.0230 - val_mean_absolute_error: 0.0785 - val_root_mean_squared_error: 0.0812\n",
            "Epoch 6/100\n",
            "\u001b[1m13/15\u001b[0m \u001b[32m━━━━━━━━━━━━━━━━━\u001b[0m\u001b[37m━━━\u001b[0m \u001b[1m0s\u001b[0m 15ms/step - loss: 0.0189 - mean_absolute_error: 0.0346 - root_mean_squared_error: 0.0516"
          ]
        },
        {
          "output_type": "stream",
          "name": "stderr",
          "text": [
            "WARNING:absl:You are saving your model as an HDF5 file via `model.save()` or `keras.saving.save_model(model)`. This file format is considered legacy. We recommend using instead the native Keras format, e.g. `model.save('my_model.keras')` or `keras.saving.save_model(model, 'my_model.keras')`. \n"
          ]
        },
        {
          "output_type": "stream",
          "name": "stdout",
          "text": [
            "\b\b\b\b\b\b\b\b\b\b\b\b\b\b\b\b\b\b\b\b\b\b\b\b\b\b\b\b\b\b\b\b\b\b\b\b\b\b\b\b\b\b\b\b\b\b\b\b\b\b\b\b\b\b\b\b\b\b\b\b\b\b\b\b\b\b\b\b\b\b\b\b\b\b\b\b\b\b\b\b\b\b\b\b\b\b\b\b\b\b\b\b\b\b\b\b\b\b\b\b\b\b\b\b\b\b\b\b\b\b\b\b\b\b\b\b\b\b\r\u001b[1m15/15\u001b[0m \u001b[32m━━━━━━━━━━━━━━━━━━━━\u001b[0m\u001b[37m\u001b[0m \u001b[1m0s\u001b[0m 30ms/step - loss: 0.0184 - mean_absolute_error: 0.0345 - root_mean_squared_error: 0.0514 - val_loss: 0.0132 - val_mean_absolute_error: 0.0681 - val_root_mean_squared_error: 0.0720\n",
            "Epoch 7/100\n",
            "\u001b[1m13/15\u001b[0m \u001b[32m━━━━━━━━━━━━━━━━━\u001b[0m\u001b[37m━━━\u001b[0m \u001b[1m0s\u001b[0m 20ms/step - loss: 0.0106 - mean_absolute_error: 0.0311 - root_mean_squared_error: 0.0483"
          ]
        },
        {
          "output_type": "stream",
          "name": "stderr",
          "text": [
            "WARNING:absl:You are saving your model as an HDF5 file via `model.save()` or `keras.saving.save_model(model)`. This file format is considered legacy. We recommend using instead the native Keras format, e.g. `model.save('my_model.keras')` or `keras.saving.save_model(model, 'my_model.keras')`. \n"
          ]
        },
        {
          "output_type": "stream",
          "name": "stdout",
          "text": [
            "\b\b\b\b\b\b\b\b\b\b\b\b\b\b\b\b\b\b\b\b\b\b\b\b\b\b\b\b\b\b\b\b\b\b\b\b\b\b\b\b\b\b\b\b\b\b\b\b\b\b\b\b\b\b\b\b\b\b\b\b\b\b\b\b\b\b\b\b\b\b\b\b\b\b\b\b\b\b\b\b\b\b\b\b\b\b\b\b\b\b\b\b\b\b\b\b\b\b\b\b\b\b\b\b\b\b\b\b\b\b\b\b\b\b\b\b\b\b\r\u001b[1m15/15\u001b[0m \u001b[32m━━━━━━━━━━━━━━━━━━━━\u001b[0m\u001b[37m\u001b[0m \u001b[1m1s\u001b[0m 35ms/step - loss: 0.0103 - mean_absolute_error: 0.0309 - root_mean_squared_error: 0.0478 - val_loss: 0.0082 - val_mean_absolute_error: 0.0656 - val_root_mean_squared_error: 0.0701\n",
            "Epoch 8/100\n",
            "\u001b[1m14/15\u001b[0m \u001b[32m━━━━━━━━━━━━━━━━━━\u001b[0m\u001b[37m━━\u001b[0m \u001b[1m0s\u001b[0m 24ms/step - loss: 0.0060 - mean_absolute_error: 0.0271 - root_mean_squared_error: 0.0415"
          ]
        },
        {
          "output_type": "stream",
          "name": "stderr",
          "text": [
            "WARNING:absl:You are saving your model as an HDF5 file via `model.save()` or `keras.saving.save_model(model)`. This file format is considered legacy. We recommend using instead the native Keras format, e.g. `model.save('my_model.keras')` or `keras.saving.save_model(model, 'my_model.keras')`. \n"
          ]
        },
        {
          "output_type": "stream",
          "name": "stdout",
          "text": [
            "\b\b\b\b\b\b\b\b\b\b\b\b\b\b\b\b\b\b\b\b\b\b\b\b\b\b\b\b\b\b\b\b\b\b\b\b\b\b\b\b\b\b\b\b\b\b\b\b\b\b\b\b\b\b\b\b\b\b\b\b\b\b\b\b\b\b\b\b\b\b\b\b\b\b\b\b\b\b\b\b\b\b\b\b\b\b\b\b\b\b\b\b\b\b\b\b\b\b\b\b\b\b\b\b\b\b\b\b\b\b\b\b\b\b\b\b\b\b\r\u001b[1m15/15\u001b[0m \u001b[32m━━━━━━━━━━━━━━━━━━━━\u001b[0m\u001b[37m\u001b[0m \u001b[1m1s\u001b[0m 39ms/step - loss: 0.0059 - mean_absolute_error: 0.0269 - root_mean_squared_error: 0.0413 - val_loss: 0.0055 - val_mean_absolute_error: 0.0644 - val_root_mean_squared_error: 0.0680\n",
            "Epoch 9/100\n",
            "\u001b[1m13/15\u001b[0m \u001b[32m━━━━━━━━━━━━━━━━━\u001b[0m\u001b[37m━━━\u001b[0m \u001b[1m0s\u001b[0m 22ms/step - loss: 0.0036 - mean_absolute_error: 0.0251 - root_mean_squared_error: 0.0384"
          ]
        },
        {
          "output_type": "stream",
          "name": "stderr",
          "text": [
            "WARNING:absl:You are saving your model as an HDF5 file via `model.save()` or `keras.saving.save_model(model)`. This file format is considered legacy. We recommend using instead the native Keras format, e.g. `model.save('my_model.keras')` or `keras.saving.save_model(model, 'my_model.keras')`. \n"
          ]
        },
        {
          "output_type": "stream",
          "name": "stdout",
          "text": [
            "\b\b\b\b\b\b\b\b\b\b\b\b\b\b\b\b\b\b\b\b\b\b\b\b\b\b\b\b\b\b\b\b\b\b\b\b\b\b\b\b\b\b\b\b\b\b\b\b\b\b\b\b\b\b\b\b\b\b\b\b\b\b\b\b\b\b\b\b\b\b\b\b\b\b\b\b\b\b\b\b\b\b\b\b\b\b\b\b\b\b\b\b\b\b\b\b\b\b\b\b\b\b\b\b\b\b\b\b\b\b\b\b\b\b\b\b\b\b\r\u001b[1m15/15\u001b[0m \u001b[32m━━━━━━━━━━━━━━━━━━━━\u001b[0m\u001b[37m\u001b[0m \u001b[1m1s\u001b[0m 37ms/step - loss: 0.0036 - mean_absolute_error: 0.0250 - root_mean_squared_error: 0.0382 - val_loss: 0.0040 - val_mean_absolute_error: 0.0609 - val_root_mean_squared_error: 0.0647\n",
            "Epoch 10/100\n",
            "\u001b[1m13/15\u001b[0m \u001b[32m━━━━━━━━━━━━━━━━━\u001b[0m\u001b[37m━━━\u001b[0m \u001b[1m0s\u001b[0m 20ms/step - loss: 0.0023 - mean_absolute_error: 0.0217 - root_mean_squared_error: 0.0328"
          ]
        },
        {
          "output_type": "stream",
          "name": "stderr",
          "text": [
            "WARNING:absl:You are saving your model as an HDF5 file via `model.save()` or `keras.saving.save_model(model)`. This file format is considered legacy. We recommend using instead the native Keras format, e.g. `model.save('my_model.keras')` or `keras.saving.save_model(model, 'my_model.keras')`. \n"
          ]
        },
        {
          "output_type": "stream",
          "name": "stdout",
          "text": [
            "\b\b\b\b\b\b\b\b\b\b\b\b\b\b\b\b\b\b\b\b\b\b\b\b\b\b\b\b\b\b\b\b\b\b\b\b\b\b\b\b\b\b\b\b\b\b\b\b\b\b\b\b\b\b\b\b\b\b\b\b\b\b\b\b\b\b\b\b\b\b\b\b\b\b\b\b\b\b\b\b\b\b\b\b\b\b\b\b\b\b\b\b\b\b\b\b\b\b\b\b\b\b\b\b\b\b\b\b\b\b\b\b\b\b\b\b\b\b\r\u001b[1m15/15\u001b[0m \u001b[32m━━━━━━━━━━━━━━━━━━━━\u001b[0m\u001b[37m\u001b[0m \u001b[1m1s\u001b[0m 37ms/step - loss: 0.0022 - mean_absolute_error: 0.0219 - root_mean_squared_error: 0.0334 - val_loss: 0.0031 - val_mean_absolute_error: 0.0582 - val_root_mean_squared_error: 0.0626\n",
            "Epoch 11/100\n",
            "\u001b[1m15/15\u001b[0m \u001b[32m━━━━━━━━━━━━━━━━━━━━\u001b[0m\u001b[37m\u001b[0m \u001b[1m0s\u001b[0m 24ms/step - loss: 0.0016 - mean_absolute_error: 0.0225 - root_mean_squared_error: 0.0326"
          ]
        },
        {
          "output_type": "stream",
          "name": "stderr",
          "text": [
            "WARNING:absl:You are saving your model as an HDF5 file via `model.save()` or `keras.saving.save_model(model)`. This file format is considered legacy. We recommend using instead the native Keras format, e.g. `model.save('my_model.keras')` or `keras.saving.save_model(model, 'my_model.keras')`. \n"
          ]
        },
        {
          "output_type": "stream",
          "name": "stdout",
          "text": [
            "\b\b\b\b\b\b\b\b\b\b\b\b\b\b\b\b\b\b\b\b\b\b\b\b\b\b\b\b\b\b\b\b\b\b\b\b\b\b\b\b\b\b\b\b\b\b\b\b\b\b\b\b\b\b\b\b\b\b\b\b\b\b\b\b\b\b\b\b\b\b\b\b\b\b\b\b\b\b\b\b\b\b\b\b\b\b\b\b\b\b\b\b\b\b\b\b\b\b\b\b\b\b\b\b\b\b\b\b\b\b\b\b\b\b\b\b\b\b\r\u001b[1m15/15\u001b[0m \u001b[32m━━━━━━━━━━━━━━━━━━━━\u001b[0m\u001b[37m\u001b[0m \u001b[1m1s\u001b[0m 36ms/step - loss: 0.0016 - mean_absolute_error: 0.0226 - root_mean_squared_error: 0.0326 - val_loss: 0.0028 - val_mean_absolute_error: 0.0596 - val_root_mean_squared_error: 0.0634\n",
            "Epoch 12/100\n",
            "\u001b[1m15/15\u001b[0m \u001b[32m━━━━━━━━━━━━━━━━━━━━\u001b[0m\u001b[37m\u001b[0m \u001b[1m0s\u001b[0m 20ms/step - loss: 0.0013 - mean_absolute_error: 0.0228 - root_mean_squared_error: 0.0348 - val_loss: 0.0030 - val_mean_absolute_error: 0.0670 - val_root_mean_squared_error: 0.0690\n",
            "Epoch 13/100\n",
            "\u001b[1m13/15\u001b[0m \u001b[32m━━━━━━━━━━━━━━━━━\u001b[0m\u001b[37m━━━\u001b[0m \u001b[1m0s\u001b[0m 15ms/step - loss: 0.0014 - mean_absolute_error: 0.0274 - root_mean_squared_error: 0.0413"
          ]
        },
        {
          "output_type": "stream",
          "name": "stderr",
          "text": [
            "WARNING:absl:You are saving your model as an HDF5 file via `model.save()` or `keras.saving.save_model(model)`. This file format is considered legacy. We recommend using instead the native Keras format, e.g. `model.save('my_model.keras')` or `keras.saving.save_model(model, 'my_model.keras')`. \n"
          ]
        },
        {
          "output_type": "stream",
          "name": "stdout",
          "text": [
            "\b\b\b\b\b\b\b\b\b\b\b\b\b\b\b\b\b\b\b\b\b\b\b\b\b\b\b\b\b\b\b\b\b\b\b\b\b\b\b\b\b\b\b\b\b\b\b\b\b\b\b\b\b\b\b\b\b\b\b\b\b\b\b\b\b\b\b\b\b\b\b\b\b\b\b\b\b\b\b\b\b\b\b\b\b\b\b\b\b\b\b\b\b\b\b\b\b\b\b\b\b\b\b\b\b\b\b\b\b\b\b\b\b\b\b\b\b\b\r\u001b[1m15/15\u001b[0m \u001b[32m━━━━━━━━━━━━━━━━━━━━\u001b[0m\u001b[37m\u001b[0m \u001b[1m0s\u001b[0m 25ms/step - loss: 0.0014 - mean_absolute_error: 0.0270 - root_mean_squared_error: 0.0404 - val_loss: 0.0027 - val_mean_absolute_error: 0.0630 - val_root_mean_squared_error: 0.0667\n",
            "Epoch 14/100\n",
            "\u001b[1m13/15\u001b[0m \u001b[32m━━━━━━━━━━━━━━━━━\u001b[0m\u001b[37m━━━\u001b[0m \u001b[1m0s\u001b[0m 15ms/step - loss: 0.0011 - mean_absolute_error: 0.0230 - root_mean_squared_error: 0.0356"
          ]
        },
        {
          "output_type": "stream",
          "name": "stderr",
          "text": [
            "WARNING:absl:You are saving your model as an HDF5 file via `model.save()` or `keras.saving.save_model(model)`. This file format is considered legacy. We recommend using instead the native Keras format, e.g. `model.save('my_model.keras')` or `keras.saving.save_model(model, 'my_model.keras')`. \n"
          ]
        },
        {
          "output_type": "stream",
          "name": "stdout",
          "text": [
            "\b\b\b\b\b\b\b\b\b\b\b\b\b\b\b\b\b\b\b\b\b\b\b\b\b\b\b\b\b\b\b\b\b\b\b\b\b\b\b\b\b\b\b\b\b\b\b\b\b\b\b\b\b\b\b\b\b\b\b\b\b\b\b\b\b\b\b\b\b\b\b\b\b\b\b\b\b\b\b\b\b\b\b\b\b\b\b\b\b\b\b\b\b\b\b\b\b\b\b\b\b\b\b\b\b\b\b\b\b\b\b\b\b\b\b\b\b\b\r\u001b[1m15/15\u001b[0m \u001b[32m━━━━━━━━━━━━━━━━━━━━\u001b[0m\u001b[37m\u001b[0m \u001b[1m1s\u001b[0m 26ms/step - loss: 0.0011 - mean_absolute_error: 0.0233 - root_mean_squared_error: 0.0360 - val_loss: 0.0024 - val_mean_absolute_error: 0.0583 - val_root_mean_squared_error: 0.0625\n",
            "Epoch 15/100\n",
            "\u001b[1m15/15\u001b[0m \u001b[32m━━━━━━━━━━━━━━━━━━━━\u001b[0m\u001b[37m\u001b[0m \u001b[1m0s\u001b[0m 22ms/step - loss: 8.9281e-04 - mean_absolute_error: 0.0218 - root_mean_squared_error: 0.0320 - val_loss: 0.0026 - val_mean_absolute_error: 0.0630 - val_root_mean_squared_error: 0.0672\n",
            "Epoch 16/100\n",
            "\u001b[1m15/15\u001b[0m \u001b[32m━━━━━━━━━━━━━━━━━━━━\u001b[0m\u001b[37m\u001b[0m \u001b[1m0s\u001b[0m 20ms/step - loss: 0.0011 - mean_absolute_error: 0.0261 - root_mean_squared_error: 0.0381 - val_loss: 0.0030 - val_mean_absolute_error: 0.0680 - val_root_mean_squared_error: 0.0731\n",
            "Epoch 17/100\n",
            "\u001b[1m15/15\u001b[0m \u001b[32m━━━━━━━━━━━━━━━━━━━━\u001b[0m\u001b[37m\u001b[0m \u001b[1m1s\u001b[0m 20ms/step - loss: 0.0010 - mean_absolute_error: 0.0250 - root_mean_squared_error: 0.0381 - val_loss: 0.0030 - val_mean_absolute_error: 0.0693 - val_root_mean_squared_error: 0.0732\n",
            "Epoch 18/100\n",
            "\u001b[1m15/15\u001b[0m \u001b[32m━━━━━━━━━━━━━━━━━━━━\u001b[0m\u001b[37m\u001b[0m \u001b[1m1s\u001b[0m 20ms/step - loss: 8.6217e-04 - mean_absolute_error: 0.0231 - root_mean_squared_error: 0.0339 - val_loss: 0.0030 - val_mean_absolute_error: 0.0706 - val_root_mean_squared_error: 0.0737\n",
            "Epoch 19/100\n",
            "\u001b[1m15/15\u001b[0m \u001b[32m━━━━━━━━━━━━━━━━━━━━\u001b[0m\u001b[37m\u001b[0m \u001b[1m0s\u001b[0m 20ms/step - loss: 0.0010 - mean_absolute_error: 0.0263 - root_mean_squared_error: 0.0391 - val_loss: 0.0034 - val_mean_absolute_error: 0.0767 - val_root_mean_squared_error: 0.0794\n",
            "Epoch 20/100\n",
            "\u001b[1m15/15\u001b[0m \u001b[32m━━━━━━━━━━━━━━━━━━━━\u001b[0m\u001b[37m\u001b[0m \u001b[1m0s\u001b[0m 22ms/step - loss: 8.7349e-04 - mean_absolute_error: 0.0237 - root_mean_squared_error: 0.0356 - val_loss: 0.0032 - val_mean_absolute_error: 0.0738 - val_root_mean_squared_error: 0.0772\n",
            "Epoch 21/100\n",
            "\u001b[1m15/15\u001b[0m \u001b[32m━━━━━━━━━━━━━━━━━━━━\u001b[0m\u001b[37m\u001b[0m \u001b[1m0s\u001b[0m 22ms/step - loss: 8.1908e-04 - mean_absolute_error: 0.0240 - root_mean_squared_error: 0.0343 - val_loss: 0.0028 - val_mean_absolute_error: 0.0675 - val_root_mean_squared_error: 0.0716\n",
            "Epoch 22/100\n",
            "\u001b[1m13/15\u001b[0m \u001b[32m━━━━━━━━━━━━━━━━━\u001b[0m\u001b[37m━━━\u001b[0m \u001b[1m0s\u001b[0m 15ms/step - loss: 6.2473e-04 - mean_absolute_error: 0.0188 - root_mean_squared_error: 0.0290"
          ]
        },
        {
          "output_type": "stream",
          "name": "stderr",
          "text": [
            "WARNING:absl:You are saving your model as an HDF5 file via `model.save()` or `keras.saving.save_model(model)`. This file format is considered legacy. We recommend using instead the native Keras format, e.g. `model.save('my_model.keras')` or `keras.saving.save_model(model, 'my_model.keras')`. \n"
          ]
        },
        {
          "output_type": "stream",
          "name": "stdout",
          "text": [
            "\b\b\b\b\b\b\b\b\b\b\b\b\b\b\b\b\b\b\b\b\b\b\b\b\b\b\b\b\b\b\b\b\b\b\b\b\b\b\b\b\b\b\b\b\b\b\b\b\b\b\b\b\b\b\b\b\b\b\b\b\b\b\b\b\b\b\b\b\b\b\b\b\b\b\b\b\b\b\b\b\b\b\b\b\b\b\b\b\b\b\b\b\b\b\b\b\b\b\b\b\b\b\b\b\b\b\b\b\b\b\b\b\b\b\b\b\b\b\b\b\b\b\r\u001b[1m15/15\u001b[0m \u001b[32m━━━━━━━━━━━━━━━━━━━━\u001b[0m\u001b[37m\u001b[0m \u001b[1m0s\u001b[0m 27ms/step - loss: 6.2354e-04 - mean_absolute_error: 0.0188 - root_mean_squared_error: 0.0290 - val_loss: 0.0023 - val_mean_absolute_error: 0.0616 - val_root_mean_squared_error: 0.0657\n",
            "Epoch 23/100\n",
            "\u001b[1m13/15\u001b[0m \u001b[32m━━━━━━━━━━━━━━━━━\u001b[0m\u001b[37m━━━\u001b[0m \u001b[1m0s\u001b[0m 15ms/step - loss: 6.6952e-04 - mean_absolute_error: 0.0196 - root_mean_squared_error: 0.0308"
          ]
        },
        {
          "output_type": "stream",
          "name": "stderr",
          "text": [
            "WARNING:absl:You are saving your model as an HDF5 file via `model.save()` or `keras.saving.save_model(model)`. This file format is considered legacy. We recommend using instead the native Keras format, e.g. `model.save('my_model.keras')` or `keras.saving.save_model(model, 'my_model.keras')`. \n"
          ]
        },
        {
          "output_type": "stream",
          "name": "stdout",
          "text": [
            "\b\b\b\b\b\b\b\b\b\b\b\b\b\b\b\b\b\b\b\b\b\b\b\b\b\b\b\b\b\b\b\b\b\b\b\b\b\b\b\b\b\b\b\b\b\b\b\b\b\b\b\b\b\b\b\b\b\b\b\b\b\b\b\b\b\b\b\b\b\b\b\b\b\b\b\b\b\b\b\b\b\b\b\b\b\b\b\b\b\b\b\b\b\b\b\b\b\b\b\b\b\b\b\b\b\b\b\b\b\b\b\b\b\b\b\b\b\b\b\b\b\b\r\u001b[1m15/15\u001b[0m \u001b[32m━━━━━━━━━━━━━━━━━━━━\u001b[0m\u001b[37m\u001b[0m \u001b[1m0s\u001b[0m 28ms/step - loss: 6.5409e-04 - mean_absolute_error: 0.0194 - root_mean_squared_error: 0.0303 - val_loss: 0.0022 - val_mean_absolute_error: 0.0599 - val_root_mean_squared_error: 0.0641\n",
            "Epoch 24/100\n",
            "\u001b[1m15/15\u001b[0m \u001b[32m━━━━━━━━━━━━━━━━━━━━\u001b[0m\u001b[37m\u001b[0m \u001b[1m0s\u001b[0m 22ms/step - loss: 5.8745e-04 - mean_absolute_error: 0.0176 - root_mean_squared_error: 0.0287 - val_loss: 0.0024 - val_mean_absolute_error: 0.0631 - val_root_mean_squared_error: 0.0669\n",
            "Epoch 25/100\n",
            "\u001b[1m15/15\u001b[0m \u001b[32m━━━━━━━━━━━━━━━━━━━━\u001b[0m\u001b[37m\u001b[0m \u001b[1m0s\u001b[0m 20ms/step - loss: 6.8710e-04 - mean_absolute_error: 0.0207 - root_mean_squared_error: 0.0322 - val_loss: 0.0025 - val_mean_absolute_error: 0.0662 - val_root_mean_squared_error: 0.0690\n",
            "Epoch 26/100\n",
            "\u001b[1m15/15\u001b[0m \u001b[32m━━━━━━━━━━━━━━━━━━━━\u001b[0m\u001b[37m\u001b[0m \u001b[1m0s\u001b[0m 21ms/step - loss: 6.9563e-04 - mean_absolute_error: 0.0205 - root_mean_squared_error: 0.0328 - val_loss: 0.0026 - val_mean_absolute_error: 0.0669 - val_root_mean_squared_error: 0.0698\n",
            "Epoch 27/100\n",
            "\u001b[1m15/15\u001b[0m \u001b[32m━━━━━━━━━━━━━━━━━━━━\u001b[0m\u001b[37m\u001b[0m \u001b[1m1s\u001b[0m 20ms/step - loss: 7.5902e-04 - mean_absolute_error: 0.0241 - root_mean_squared_error: 0.0345 - val_loss: 0.0030 - val_mean_absolute_error: 0.0728 - val_root_mean_squared_error: 0.0758\n",
            "Epoch 28/100\n",
            "\u001b[1m15/15\u001b[0m \u001b[32m━━━━━━━━━━━━━━━━━━━━\u001b[0m\u001b[37m\u001b[0m \u001b[1m0s\u001b[0m 22ms/step - loss: 7.7596e-04 - mean_absolute_error: 0.0235 - root_mean_squared_error: 0.0350 - val_loss: 0.0033 - val_mean_absolute_error: 0.0757 - val_root_mean_squared_error: 0.0792\n",
            "Epoch 29/100\n",
            "\u001b[1m15/15\u001b[0m \u001b[32m━━━━━━━━━━━━━━━━━━━━\u001b[0m\u001b[37m\u001b[0m \u001b[1m0s\u001b[0m 22ms/step - loss: 7.8496e-04 - mean_absolute_error: 0.0218 - root_mean_squared_error: 0.0350 - val_loss: 0.0027 - val_mean_absolute_error: 0.0671 - val_root_mean_squared_error: 0.0717\n",
            "Epoch 30/100\n",
            "\u001b[1m15/15\u001b[0m \u001b[32m━━━━━━━━━━━━━━━━━━━━\u001b[0m\u001b[37m\u001b[0m \u001b[1m1s\u001b[0m 21ms/step - loss: 5.8472e-04 - mean_absolute_error: 0.0196 - root_mean_squared_error: 0.0289 - val_loss: 0.0027 - val_mean_absolute_error: 0.0672 - val_root_mean_squared_error: 0.0712\n",
            "Epoch 31/100\n",
            "\u001b[1m15/15\u001b[0m \u001b[32m━━━━━━━━━━━━━━━━━━━━\u001b[0m\u001b[37m\u001b[0m \u001b[1m1s\u001b[0m 22ms/step - loss: 5.8986e-04 - mean_absolute_error: 0.0198 - root_mean_squared_error: 0.0296 - val_loss: 0.0024 - val_mean_absolute_error: 0.0626 - val_root_mean_squared_error: 0.0674\n",
            "Epoch 32/100\n",
            "\u001b[1m15/15\u001b[0m \u001b[32m━━━━━━━━━━━━━━━━━━━━\u001b[0m\u001b[37m\u001b[0m \u001b[1m1s\u001b[0m 21ms/step - loss: 7.0036e-04 - mean_absolute_error: 0.0199 - root_mean_squared_error: 0.0329 - val_loss: 0.0025 - val_mean_absolute_error: 0.0646 - val_root_mean_squared_error: 0.0691\n",
            "Epoch 33/100\n",
            "\u001b[1m15/15\u001b[0m \u001b[32m━━━━━━━━━━━━━━━━━━━━\u001b[0m\u001b[37m\u001b[0m \u001b[1m0s\u001b[0m 22ms/step - loss: 6.7814e-04 - mean_absolute_error: 0.0201 - root_mean_squared_error: 0.0322 - val_loss: 0.0028 - val_mean_absolute_error: 0.0696 - val_root_mean_squared_error: 0.0726\n",
            "Epoch 34/100\n",
            "\u001b[1m15/15\u001b[0m \u001b[32m━━━━━━━━━━━━━━━━━━━━\u001b[0m\u001b[37m\u001b[0m \u001b[1m1s\u001b[0m 30ms/step - loss: 6.1677e-04 - mean_absolute_error: 0.0199 - root_mean_squared_error: 0.0303 - val_loss: 0.0028 - val_mean_absolute_error: 0.0687 - val_root_mean_squared_error: 0.0721\n",
            "Epoch 35/100\n",
            "\u001b[1m15/15\u001b[0m \u001b[32m━━━━━━━━━━━━━━━━━━━━\u001b[0m\u001b[37m\u001b[0m \u001b[1m0s\u001b[0m 29ms/step - loss: 6.7751e-04 - mean_absolute_error: 0.0213 - root_mean_squared_error: 0.0325 - val_loss: 0.0034 - val_mean_absolute_error: 0.0773 - val_root_mean_squared_error: 0.0810\n",
            "Epoch 36/100\n",
            "\u001b[1m15/15\u001b[0m \u001b[32m━━━━━━━━━━━━━━━━━━━━\u001b[0m\u001b[37m\u001b[0m \u001b[1m0s\u001b[0m 31ms/step - loss: 7.2494e-04 - mean_absolute_error: 0.0225 - root_mean_squared_error: 0.0339 - val_loss: 0.0031 - val_mean_absolute_error: 0.0720 - val_root_mean_squared_error: 0.0763\n",
            "Epoch 37/100\n",
            "\u001b[1m15/15\u001b[0m \u001b[32m━━━━━━━━━━━━━━━━━━━━\u001b[0m\u001b[37m\u001b[0m \u001b[1m1s\u001b[0m 42ms/step - loss: 4.8836e-04 - mean_absolute_error: 0.0169 - root_mean_squared_error: 0.0257 - val_loss: 0.0026 - val_mean_absolute_error: 0.0653 - val_root_mean_squared_error: 0.0697\n",
            "Epoch 38/100\n",
            "\u001b[1m15/15\u001b[0m \u001b[32m━━━━━━━━━━━━━━━━━━━━\u001b[0m\u001b[37m\u001b[0m \u001b[1m0s\u001b[0m 39ms/step - loss: 4.9170e-04 - mean_absolute_error: 0.0170 - root_mean_squared_error: 0.0262"
          ]
        },
        {
          "output_type": "stream",
          "name": "stderr",
          "text": [
            "WARNING:absl:You are saving your model as an HDF5 file via `model.save()` or `keras.saving.save_model(model)`. This file format is considered legacy. We recommend using instead the native Keras format, e.g. `model.save('my_model.keras')` or `keras.saving.save_model(model, 'my_model.keras')`. \n"
          ]
        },
        {
          "output_type": "stream",
          "name": "stdout",
          "text": [
            "\b\b\b\b\b\b\b\b\b\b\b\b\b\b\b\b\b\b\b\b\b\b\b\b\b\b\b\b\b\b\b\b\b\b\b\b\b\b\b\b\b\b\b\b\b\b\b\b\b\b\b\b\b\b\b\b\b\b\b\b\b\b\b\b\b\b\b\b\b\b\b\b\b\b\b\b\b\b\b\b\b\b\b\b\b\b\b\b\b\b\b\b\b\b\b\b\b\b\b\b\b\b\b\b\b\b\b\b\b\b\b\b\b\b\b\b\b\b\b\b\b\b\r\u001b[1m15/15\u001b[0m \u001b[32m━━━━━━━━━━━━━━━━━━━━\u001b[0m\u001b[37m\u001b[0m \u001b[1m1s\u001b[0m 69ms/step - loss: 4.9301e-04 - mean_absolute_error: 0.0170 - root_mean_squared_error: 0.0263 - val_loss: 0.0020 - val_mean_absolute_error: 0.0554 - val_root_mean_squared_error: 0.0608\n",
            "Epoch 39/100\n",
            "\u001b[1m15/15\u001b[0m \u001b[32m━━━━━━━━━━━━━━━━━━━━\u001b[0m\u001b[37m\u001b[0m \u001b[1m1s\u001b[0m 31ms/step - loss: 5.7310e-04 - mean_absolute_error: 0.0201 - root_mean_squared_error: 0.0296 - val_loss: 0.0028 - val_mean_absolute_error: 0.0696 - val_root_mean_squared_error: 0.0733\n",
            "Epoch 40/100\n",
            "\u001b[1m15/15\u001b[0m \u001b[32m━━━━━━━━━━━━━━━━━━━━\u001b[0m\u001b[37m\u001b[0m \u001b[1m0s\u001b[0m 21ms/step - loss: 6.5598e-04 - mean_absolute_error: 0.0206 - root_mean_squared_error: 0.0321 - val_loss: 0.0023 - val_mean_absolute_error: 0.0597 - val_root_mean_squared_error: 0.0658\n",
            "Epoch 41/100\n",
            "\u001b[1m15/15\u001b[0m \u001b[32m━━━━━━━━━━━━━━━━━━━━\u001b[0m\u001b[37m\u001b[0m \u001b[1m0s\u001b[0m 20ms/step - loss: 6.8498e-04 - mean_absolute_error: 0.0238 - root_mean_squared_error: 0.0326 - val_loss: 0.0032 - val_mean_absolute_error: 0.0719 - val_root_mean_squared_error: 0.0776\n",
            "Epoch 42/100\n",
            "\u001b[1m15/15\u001b[0m \u001b[32m━━━━━━━━━━━━━━━━━━━━\u001b[0m\u001b[37m\u001b[0m \u001b[1m1s\u001b[0m 20ms/step - loss: 8.1195e-04 - mean_absolute_error: 0.0229 - root_mean_squared_error: 0.0363 - val_loss: 0.0027 - val_mean_absolute_error: 0.0649 - val_root_mean_squared_error: 0.0713\n",
            "Epoch 43/100\n",
            "\u001b[1m12/15\u001b[0m \u001b[32m━━━━━━━━━━━━━━━━\u001b[0m\u001b[37m━━━━\u001b[0m \u001b[1m0s\u001b[0m 17ms/step - loss: 6.3340e-04 - mean_absolute_error: 0.0187 - root_mean_squared_error: 0.0309"
          ]
        },
        {
          "output_type": "stream",
          "name": "stderr",
          "text": [
            "WARNING:absl:You are saving your model as an HDF5 file via `model.save()` or `keras.saving.save_model(model)`. This file format is considered legacy. We recommend using instead the native Keras format, e.g. `model.save('my_model.keras')` or `keras.saving.save_model(model, 'my_model.keras')`. \n"
          ]
        },
        {
          "output_type": "stream",
          "name": "stdout",
          "text": [
            "\b\b\b\b\b\b\b\b\b\b\b\b\b\b\b\b\b\b\b\b\b\b\b\b\b\b\b\b\b\b\b\b\b\b\b\b\b\b\b\b\b\b\b\b\b\b\b\b\b\b\b\b\b\b\b\b\b\b\b\b\b\b\b\b\b\b\b\b\b\b\b\b\b\b\b\b\b\b\b\b\b\b\b\b\b\b\b\b\b\b\b\b\b\b\b\b\b\b\b\b\b\b\b\b\b\b\b\b\b\b\b\b\b\b\b\b\b\b\b\b\b\b\r\u001b[1m15/15\u001b[0m \u001b[32m━━━━━━━━━━━━━━━━━━━━\u001b[0m\u001b[37m\u001b[0m \u001b[1m1s\u001b[0m 29ms/step - loss: 6.4659e-04 - mean_absolute_error: 0.0191 - root_mean_squared_error: 0.0314 - val_loss: 0.0019 - val_mean_absolute_error: 0.0537 - val_root_mean_squared_error: 0.0587\n",
            "Epoch 44/100\n",
            "\u001b[1m15/15\u001b[0m \u001b[32m━━━━━━━━━━━━━━━━━━━━\u001b[0m\u001b[37m\u001b[0m \u001b[1m1s\u001b[0m 21ms/step - loss: 5.3499e-04 - mean_absolute_error: 0.0176 - root_mean_squared_error: 0.0277 - val_loss: 0.0020 - val_mean_absolute_error: 0.0564 - val_root_mean_squared_error: 0.0611\n",
            "Epoch 45/100\n",
            "\u001b[1m15/15\u001b[0m \u001b[32m━━━━━━━━━━━━━━━━━━━━\u001b[0m\u001b[37m\u001b[0m \u001b[1m0s\u001b[0m 22ms/step - loss: 5.3439e-04 - mean_absolute_error: 0.0182 - root_mean_squared_error: 0.0281 - val_loss: 0.0023 - val_mean_absolute_error: 0.0611 - val_root_mean_squared_error: 0.0660\n",
            "Epoch 46/100\n",
            "\u001b[1m15/15\u001b[0m \u001b[32m━━━━━━━━━━━━━━━━━━━━\u001b[0m\u001b[37m\u001b[0m \u001b[1m0s\u001b[0m 20ms/step - loss: 4.8474e-04 - mean_absolute_error: 0.0183 - root_mean_squared_error: 0.0264 - val_loss: 0.0019 - val_mean_absolute_error: 0.0551 - val_root_mean_squared_error: 0.0601\n",
            "Epoch 47/100\n",
            "\u001b[1m15/15\u001b[0m \u001b[32m━━━━━━━━━━━━━━━━━━━━\u001b[0m\u001b[37m\u001b[0m \u001b[1m0s\u001b[0m 22ms/step - loss: 5.3613e-04 - mean_absolute_error: 0.0172 - root_mean_squared_error: 0.0281 - val_loss: 0.0020 - val_mean_absolute_error: 0.0567 - val_root_mean_squared_error: 0.0606\n",
            "Epoch 48/100\n",
            "\u001b[1m15/15\u001b[0m \u001b[32m━━━━━━━━━━━━━━━━━━━━\u001b[0m\u001b[37m\u001b[0m \u001b[1m0s\u001b[0m 20ms/step - loss: 4.7916e-04 - mean_absolute_error: 0.0175 - root_mean_squared_error: 0.0263 - val_loss: 0.0019 - val_mean_absolute_error: 0.0564 - val_root_mean_squared_error: 0.0596\n",
            "Epoch 49/100\n",
            "\u001b[1m15/15\u001b[0m \u001b[32m━━━━━━━━━━━━━━━━━━━━\u001b[0m\u001b[37m\u001b[0m \u001b[1m1s\u001b[0m 25ms/step - loss: 3.7944e-04 - mean_absolute_error: 0.0151 - root_mean_squared_error: 0.0230 - val_loss: 0.0023 - val_mean_absolute_error: 0.0620 - val_root_mean_squared_error: 0.0653\n",
            "Epoch 50/100\n",
            "\u001b[1m15/15\u001b[0m \u001b[32m━━━━━━━━━━━━━━━━━━━━\u001b[0m\u001b[37m\u001b[0m \u001b[1m1s\u001b[0m 21ms/step - loss: 5.4556e-04 - mean_absolute_error: 0.0188 - root_mean_squared_error: 0.0291 - val_loss: 0.0021 - val_mean_absolute_error: 0.0591 - val_root_mean_squared_error: 0.0620\n",
            "Epoch 51/100\n",
            "\u001b[1m13/15\u001b[0m \u001b[32m━━━━━━━━━━━━━━━━━\u001b[0m\u001b[37m━━━\u001b[0m \u001b[1m0s\u001b[0m 15ms/step - loss: 4.6259e-04 - mean_absolute_error: 0.0168 - root_mean_squared_error: 0.0254"
          ]
        },
        {
          "output_type": "stream",
          "name": "stderr",
          "text": [
            "WARNING:absl:You are saving your model as an HDF5 file via `model.save()` or `keras.saving.save_model(model)`. This file format is considered legacy. We recommend using instead the native Keras format, e.g. `model.save('my_model.keras')` or `keras.saving.save_model(model, 'my_model.keras')`. \n"
          ]
        },
        {
          "output_type": "stream",
          "name": "stdout",
          "text": [
            "\b\b\b\b\b\b\b\b\b\b\b\b\b\b\b\b\b\b\b\b\b\b\b\b\b\b\b\b\b\b\b\b\b\b\b\b\b\b\b\b\b\b\b\b\b\b\b\b\b\b\b\b\b\b\b\b\b\b\b\b\b\b\b\b\b\b\b\b\b\b\b\b\b\b\b\b\b\b\b\b\b\b\b\b\b\b\b\b\b\b\b\b\b\b\b\b\b\b\b\b\b\b\b\b\b\b\b\b\b\b\b\b\b\b\b\b\b\b\b\b\b\b\r\u001b[1m15/15\u001b[0m \u001b[32m━━━━━━━━━━━━━━━━━━━━\u001b[0m\u001b[37m\u001b[0m \u001b[1m0s\u001b[0m 27ms/step - loss: 4.6507e-04 - mean_absolute_error: 0.0167 - root_mean_squared_error: 0.0256 - val_loss: 0.0015 - val_mean_absolute_error: 0.0476 - val_root_mean_squared_error: 0.0522\n",
            "Epoch 52/100\n",
            "\u001b[1m15/15\u001b[0m \u001b[32m━━━━━━━━━━━━━━━━━━━━\u001b[0m\u001b[37m\u001b[0m \u001b[1m1s\u001b[0m 22ms/step - loss: 4.7127e-04 - mean_absolute_error: 0.0161 - root_mean_squared_error: 0.0261 - val_loss: 0.0020 - val_mean_absolute_error: 0.0580 - val_root_mean_squared_error: 0.0619\n",
            "Epoch 53/100\n",
            "\u001b[1m15/15\u001b[0m \u001b[32m━━━━━━━━━━━━━━━━━━━━\u001b[0m\u001b[37m\u001b[0m \u001b[1m0s\u001b[0m 21ms/step - loss: 4.7370e-04 - mean_absolute_error: 0.0165 - root_mean_squared_error: 0.0263 - val_loss: 0.0020 - val_mean_absolute_error: 0.0584 - val_root_mean_squared_error: 0.0621\n",
            "Epoch 54/100\n",
            "\u001b[1m15/15\u001b[0m \u001b[32m━━━━━━━━━━━━━━━━━━━━\u001b[0m\u001b[37m\u001b[0m \u001b[1m1s\u001b[0m 23ms/step - loss: 3.6736e-04 - mean_absolute_error: 0.0155 - root_mean_squared_error: 0.0224 - val_loss: 0.0019 - val_mean_absolute_error: 0.0566 - val_root_mean_squared_error: 0.0602\n",
            "Epoch 55/100\n",
            "\u001b[1m15/15\u001b[0m \u001b[32m━━━━━━━━━━━━━━━━━━━━\u001b[0m\u001b[37m\u001b[0m \u001b[1m1s\u001b[0m 22ms/step - loss: 4.4895e-04 - mean_absolute_error: 0.0160 - root_mean_squared_error: 0.0260 - val_loss: 0.0016 - val_mean_absolute_error: 0.0508 - val_root_mean_squared_error: 0.0539\n",
            "Epoch 56/100\n",
            "\u001b[1m13/15\u001b[0m \u001b[32m━━━━━━━━━━━━━━━━━\u001b[0m\u001b[37m━━━\u001b[0m \u001b[1m0s\u001b[0m 15ms/step - loss: 3.5476e-04 - mean_absolute_error: 0.0146 - root_mean_squared_error: 0.0220"
          ]
        },
        {
          "output_type": "stream",
          "name": "stderr",
          "text": [
            "WARNING:absl:You are saving your model as an HDF5 file via `model.save()` or `keras.saving.save_model(model)`. This file format is considered legacy. We recommend using instead the native Keras format, e.g. `model.save('my_model.keras')` or `keras.saving.save_model(model, 'my_model.keras')`. \n"
          ]
        },
        {
          "output_type": "stream",
          "name": "stdout",
          "text": [
            "\b\b\b\b\b\b\b\b\b\b\b\b\b\b\b\b\b\b\b\b\b\b\b\b\b\b\b\b\b\b\b\b\b\b\b\b\b\b\b\b\b\b\b\b\b\b\b\b\b\b\b\b\b\b\b\b\b\b\b\b\b\b\b\b\b\b\b\b\b\b\b\b\b\b\b\b\b\b\b\b\b\b\b\b\b\b\b\b\b\b\b\b\b\b\b\b\b\b\b\b\b\b\b\b\b\b\b\b\b\b\b\b\b\b\b\b\b\b\b\b\b\b\r\u001b[1m15/15\u001b[0m \u001b[32m━━━━━━━━━━━━━━━━━━━━\u001b[0m\u001b[37m\u001b[0m \u001b[1m0s\u001b[0m 25ms/step - loss: 3.6632e-04 - mean_absolute_error: 0.0148 - root_mean_squared_error: 0.0225 - val_loss: 0.0012 - val_mean_absolute_error: 0.0434 - val_root_mean_squared_error: 0.0457\n",
            "Epoch 57/100\n",
            "\u001b[1m15/15\u001b[0m \u001b[32m━━━━━━━━━━━━━━━━━━━━\u001b[0m\u001b[37m\u001b[0m \u001b[1m0s\u001b[0m 22ms/step - loss: 4.0586e-04 - mean_absolute_error: 0.0149 - root_mean_squared_error: 0.0244 - val_loss: 0.0014 - val_mean_absolute_error: 0.0477 - val_root_mean_squared_error: 0.0505\n",
            "Epoch 58/100\n",
            "\u001b[1m15/15\u001b[0m \u001b[32m━━━━━━━━━━━━━━━━━━━━\u001b[0m\u001b[37m\u001b[0m \u001b[1m1s\u001b[0m 22ms/step - loss: 4.6929e-04 - mean_absolute_error: 0.0163 - root_mean_squared_error: 0.0266 - val_loss: 0.0012 - val_mean_absolute_error: 0.0440 - val_root_mean_squared_error: 0.0470\n",
            "Epoch 59/100\n",
            "\u001b[1m15/15\u001b[0m \u001b[32m━━━━━━━━━━━━━━━━━━━━\u001b[0m\u001b[37m\u001b[0m \u001b[1m1s\u001b[0m 29ms/step - loss: 4.9018e-04 - mean_absolute_error: 0.0170 - root_mean_squared_error: 0.0276 - val_loss: 0.0018 - val_mean_absolute_error: 0.0534 - val_root_mean_squared_error: 0.0575\n",
            "Epoch 60/100\n",
            "\u001b[1m15/15\u001b[0m \u001b[32m━━━━━━━━━━━━━━━━━━━━\u001b[0m\u001b[37m\u001b[0m \u001b[1m0s\u001b[0m 29ms/step - loss: 5.6525e-04 - mean_absolute_error: 0.0189 - root_mean_squared_error: 0.0299 - val_loss: 0.0020 - val_mean_absolute_error: 0.0583 - val_root_mean_squared_error: 0.0618\n",
            "Epoch 61/100\n",
            "\u001b[1m15/15\u001b[0m \u001b[32m━━━━━━━━━━━━━━━━━━━━\u001b[0m\u001b[37m\u001b[0m \u001b[1m0s\u001b[0m 29ms/step - loss: 5.6406e-04 - mean_absolute_error: 0.0205 - root_mean_squared_error: 0.0295 - val_loss: 0.0030 - val_mean_absolute_error: 0.0725 - val_root_mean_squared_error: 0.0757\n",
            "Epoch 62/100\n",
            "\u001b[1m15/15\u001b[0m \u001b[32m━━━━━━━━━━━━━━━━━━━━\u001b[0m\u001b[37m\u001b[0m \u001b[1m0s\u001b[0m 31ms/step - loss: 5.6206e-04 - mean_absolute_error: 0.0192 - root_mean_squared_error: 0.0294 - val_loss: 0.0021 - val_mean_absolute_error: 0.0601 - val_root_mean_squared_error: 0.0632\n",
            "Epoch 63/100\n",
            "\u001b[1m15/15\u001b[0m \u001b[32m━━━━━━━━━━━━━━━━━━━━\u001b[0m\u001b[37m\u001b[0m \u001b[1m0s\u001b[0m 29ms/step - loss: 4.5146e-04 - mean_absolute_error: 0.0165 - root_mean_squared_error: 0.0257 - val_loss: 0.0030 - val_mean_absolute_error: 0.0723 - val_root_mean_squared_error: 0.0763\n",
            "Epoch 64/100\n",
            "\u001b[1m15/15\u001b[0m \u001b[32m━━━━━━━━━━━━━━━━━━━━\u001b[0m\u001b[37m\u001b[0m \u001b[1m1s\u001b[0m 32ms/step - loss: 3.6933e-04 - mean_absolute_error: 0.0149 - root_mean_squared_error: 0.0225 - val_loss: 0.0013 - val_mean_absolute_error: 0.0454 - val_root_mean_squared_error: 0.0486\n",
            "Epoch 65/100\n",
            "\u001b[1m15/15\u001b[0m \u001b[32m━━━━━━━━━━━━━━━━━━━━\u001b[0m\u001b[37m\u001b[0m \u001b[1m0s\u001b[0m 20ms/step - loss: 4.9489e-04 - mean_absolute_error: 0.0181 - root_mean_squared_error: 0.0280 - val_loss: 0.0038 - val_mean_absolute_error: 0.0814 - val_root_mean_squared_error: 0.0866\n",
            "Epoch 66/100\n",
            "\u001b[1m15/15\u001b[0m \u001b[32m━━━━━━━━━━━━━━━━━━━━\u001b[0m\u001b[37m\u001b[0m \u001b[1m0s\u001b[0m 22ms/step - loss: 4.1812e-04 - mean_absolute_error: 0.0166 - root_mean_squared_error: 0.0252 - val_loss: 0.0012 - val_mean_absolute_error: 0.0438 - val_root_mean_squared_error: 0.0464\n",
            "Epoch 67/100\n",
            "\u001b[1m15/15\u001b[0m \u001b[32m━━━━━━━━━━━━━━━━━━━━\u001b[0m\u001b[37m\u001b[0m \u001b[1m0s\u001b[0m 20ms/step - loss: 4.6957e-04 - mean_absolute_error: 0.0165 - root_mean_squared_error: 0.0269 - val_loss: 0.0016 - val_mean_absolute_error: 0.0519 - val_root_mean_squared_error: 0.0542\n",
            "Epoch 68/100\n",
            "\u001b[1m15/15\u001b[0m \u001b[32m━━━━━━━━━━━━━━━━━━━━\u001b[0m\u001b[37m\u001b[0m \u001b[1m0s\u001b[0m 21ms/step - loss: 5.5035e-04 - mean_absolute_error: 0.0191 - root_mean_squared_error: 0.0298 - val_loss: 0.0030 - val_mean_absolute_error: 0.0719 - val_root_mean_squared_error: 0.0752\n",
            "Epoch 69/100\n",
            "\u001b[1m15/15\u001b[0m \u001b[32m━━━━━━━━━━━━━━━━━━━━\u001b[0m\u001b[37m\u001b[0m \u001b[1m1s\u001b[0m 22ms/step - loss: 6.1468e-04 - mean_absolute_error: 0.0210 - root_mean_squared_error: 0.0313 - val_loss: 0.0014 - val_mean_absolute_error: 0.0490 - val_root_mean_squared_error: 0.0514\n",
            "Epoch 70/100\n",
            "\u001b[1m13/15\u001b[0m \u001b[32m━━━━━━━━━━━━━━━━━\u001b[0m\u001b[37m━━━\u001b[0m \u001b[1m0s\u001b[0m 15ms/step - loss: 4.8321e-04 - mean_absolute_error: 0.0168 - root_mean_squared_error: 0.0271"
          ]
        },
        {
          "output_type": "stream",
          "name": "stderr",
          "text": [
            "WARNING:absl:You are saving your model as an HDF5 file via `model.save()` or `keras.saving.save_model(model)`. This file format is considered legacy. We recommend using instead the native Keras format, e.g. `model.save('my_model.keras')` or `keras.saving.save_model(model, 'my_model.keras')`. \n"
          ]
        },
        {
          "output_type": "stream",
          "name": "stdout",
          "text": [
            "\b\b\b\b\b\b\b\b\b\b\b\b\b\b\b\b\b\b\b\b\b\b\b\b\b\b\b\b\b\b\b\b\b\b\b\b\b\b\b\b\b\b\b\b\b\b\b\b\b\b\b\b\b\b\b\b\b\b\b\b\b\b\b\b\b\b\b\b\b\b\b\b\b\b\b\b\b\b\b\b\b\b\b\b\b\b\b\b\b\b\b\b\b\b\b\b\b\b\b\b\b\b\b\b\b\b\b\b\b\b\b\b\b\b\b\b\b\b\b\b\b\b\r\u001b[1m15/15\u001b[0m \u001b[32m━━━━━━━━━━━━━━━━━━━━\u001b[0m\u001b[37m\u001b[0m \u001b[1m0s\u001b[0m 25ms/step - loss: 4.7297e-04 - mean_absolute_error: 0.0166 - root_mean_squared_error: 0.0268 - val_loss: 9.4606e-04 - val_mean_absolute_error: 0.0381 - val_root_mean_squared_error: 0.0408\n",
            "Epoch 71/100\n",
            "\u001b[1m15/15\u001b[0m \u001b[32m━━━━━━━━━━━━━━━━━━━━\u001b[0m\u001b[37m\u001b[0m \u001b[1m1s\u001b[0m 21ms/step - loss: 4.1404e-04 - mean_absolute_error: 0.0152 - root_mean_squared_error: 0.0243 - val_loss: 0.0028 - val_mean_absolute_error: 0.0699 - val_root_mean_squared_error: 0.0725\n",
            "Epoch 72/100\n",
            "\u001b[1m15/15\u001b[0m \u001b[32m━━━━━━━━━━━━━━━━━━━━\u001b[0m\u001b[37m\u001b[0m \u001b[1m0s\u001b[0m 22ms/step - loss: 6.3969e-04 - mean_absolute_error: 0.0196 - root_mean_squared_error: 0.0318 - val_loss: 0.0020 - val_mean_absolute_error: 0.0592 - val_root_mean_squared_error: 0.0617\n",
            "Epoch 73/100\n",
            "\u001b[1m15/15\u001b[0m \u001b[32m━━━━━━━━━━━━━━━━━━━━\u001b[0m\u001b[37m\u001b[0m \u001b[1m1s\u001b[0m 22ms/step - loss: 4.4450e-04 - mean_absolute_error: 0.0169 - root_mean_squared_error: 0.0254 - val_loss: 0.0028 - val_mean_absolute_error: 0.0692 - val_root_mean_squared_error: 0.0733\n",
            "Epoch 74/100\n",
            "\u001b[1m12/15\u001b[0m \u001b[32m━━━━━━━━━━━━━━━━\u001b[0m\u001b[37m━━━━\u001b[0m \u001b[1m0s\u001b[0m 16ms/step - loss: 4.2040e-04 - mean_absolute_error: 0.0160 - root_mean_squared_error: 0.0242"
          ]
        },
        {
          "output_type": "stream",
          "name": "stderr",
          "text": [
            "WARNING:absl:You are saving your model as an HDF5 file via `model.save()` or `keras.saving.save_model(model)`. This file format is considered legacy. We recommend using instead the native Keras format, e.g. `model.save('my_model.keras')` or `keras.saving.save_model(model, 'my_model.keras')`. \n"
          ]
        },
        {
          "output_type": "stream",
          "name": "stdout",
          "text": [
            "\b\b\b\b\b\b\b\b\b\b\b\b\b\b\b\b\b\b\b\b\b\b\b\b\b\b\b\b\b\b\b\b\b\b\b\b\b\b\b\b\b\b\b\b\b\b\b\b\b\b\b\b\b\b\b\b\b\b\b\b\b\b\b\b\b\b\b\b\b\b\b\b\b\b\b\b\b\b\b\b\b\b\b\b\b\b\b\b\b\b\b\b\b\b\b\b\b\b\b\b\b\b\b\b\b\b\b\b\b\b\b\b\b\b\b\b\b\b\b\b\b\b\r\u001b[1m15/15\u001b[0m \u001b[32m━━━━━━━━━━━━━━━━━━━━\u001b[0m\u001b[37m\u001b[0m \u001b[1m1s\u001b[0m 28ms/step - loss: 4.1414e-04 - mean_absolute_error: 0.0159 - root_mean_squared_error: 0.0240 - val_loss: 6.5345e-04 - val_mean_absolute_error: 0.0308 - val_root_mean_squared_error: 0.0328\n",
            "Epoch 75/100\n",
            "\u001b[1m15/15\u001b[0m \u001b[32m━━━━━━━━━━━━━━━━━━━━\u001b[0m\u001b[37m\u001b[0m \u001b[1m0s\u001b[0m 20ms/step - loss: 4.1531e-04 - mean_absolute_error: 0.0159 - root_mean_squared_error: 0.0245 - val_loss: 7.5239e-04 - val_mean_absolute_error: 0.0338 - val_root_mean_squared_error: 0.0359\n",
            "Epoch 76/100\n",
            "\u001b[1m15/15\u001b[0m \u001b[32m━━━━━━━━━━━━━━━━━━━━\u001b[0m\u001b[37m\u001b[0m \u001b[1m0s\u001b[0m 21ms/step - loss: 4.1201e-04 - mean_absolute_error: 0.0163 - root_mean_squared_error: 0.0248 - val_loss: 0.0010 - val_mean_absolute_error: 0.0414 - val_root_mean_squared_error: 0.0433\n",
            "Epoch 77/100\n",
            "\u001b[1m15/15\u001b[0m \u001b[32m━━━━━━━━━━━━━━━━━━━━\u001b[0m\u001b[37m\u001b[0m \u001b[1m1s\u001b[0m 21ms/step - loss: 4.0347e-04 - mean_absolute_error: 0.0171 - root_mean_squared_error: 0.0244 - val_loss: 0.0018 - val_mean_absolute_error: 0.0556 - val_root_mean_squared_error: 0.0577\n",
            "Epoch 78/100\n",
            "\u001b[1m13/15\u001b[0m \u001b[32m━━━━━━━━━━━━━━━━━\u001b[0m\u001b[37m━━━\u001b[0m \u001b[1m0s\u001b[0m 15ms/step - loss: 3.8513e-04 - mean_absolute_error: 0.0158 - root_mean_squared_error: 0.0235"
          ]
        },
        {
          "output_type": "stream",
          "name": "stderr",
          "text": [
            "WARNING:absl:You are saving your model as an HDF5 file via `model.save()` or `keras.saving.save_model(model)`. This file format is considered legacy. We recommend using instead the native Keras format, e.g. `model.save('my_model.keras')` or `keras.saving.save_model(model, 'my_model.keras')`. \n"
          ]
        },
        {
          "output_type": "stream",
          "name": "stdout",
          "text": [
            "\b\b\b\b\b\b\b\b\b\b\b\b\b\b\b\b\b\b\b\b\b\b\b\b\b\b\b\b\b\b\b\b\b\b\b\b\b\b\b\b\b\b\b\b\b\b\b\b\b\b\b\b\b\b\b\b\b\b\b\b\b\b\b\b\b\b\b\b\b\b\b\b\b\b\b\b\b\b\b\b\b\b\b\b\b\b\b\b\b\b\b\b\b\b\b\b\b\b\b\b\b\b\b\b\b\b\b\b\b\b\b\b\b\b\b\b\b\b\b\b\b\b\r\u001b[1m15/15\u001b[0m \u001b[32m━━━━━━━━━━━━━━━━━━━━\u001b[0m\u001b[37m\u001b[0m \u001b[1m1s\u001b[0m 27ms/step - loss: 3.8716e-04 - mean_absolute_error: 0.0158 - root_mean_squared_error: 0.0236 - val_loss: 6.4039e-04 - val_mean_absolute_error: 0.0311 - val_root_mean_squared_error: 0.0327\n",
            "Epoch 79/100\n",
            "\u001b[1m15/15\u001b[0m \u001b[32m━━━━━━━━━━━━━━━━━━━━\u001b[0m\u001b[37m\u001b[0m \u001b[1m1s\u001b[0m 22ms/step - loss: 3.9541e-04 - mean_absolute_error: 0.0155 - root_mean_squared_error: 0.0241 - val_loss: 9.3174e-04 - val_mean_absolute_error: 0.0391 - val_root_mean_squared_error: 0.0408\n",
            "Epoch 80/100\n",
            "\u001b[1m15/15\u001b[0m \u001b[32m━━━━━━━━━━━━━━━━━━━━\u001b[0m\u001b[37m\u001b[0m \u001b[1m0s\u001b[0m 20ms/step - loss: 3.6185e-04 - mean_absolute_error: 0.0149 - root_mean_squared_error: 0.0227 - val_loss: 0.0016 - val_mean_absolute_error: 0.0524 - val_root_mean_squared_error: 0.0547\n",
            "Epoch 81/100\n",
            "\u001b[1m15/15\u001b[0m \u001b[32m━━━━━━━━━━━━━━━━━━━━\u001b[0m\u001b[37m\u001b[0m \u001b[1m1s\u001b[0m 20ms/step - loss: 3.6883e-04 - mean_absolute_error: 0.0145 - root_mean_squared_error: 0.0233 - val_loss: 0.0020 - val_mean_absolute_error: 0.0591 - val_root_mean_squared_error: 0.0619\n",
            "Epoch 82/100\n",
            "\u001b[1m15/15\u001b[0m \u001b[32m━━━━━━━━━━━━━━━━━━━━\u001b[0m\u001b[37m\u001b[0m \u001b[1m0s\u001b[0m 20ms/step - loss: 4.8796e-04 - mean_absolute_error: 0.0173 - root_mean_squared_error: 0.0278 - val_loss: 0.0019 - val_mean_absolute_error: 0.0576 - val_root_mean_squared_error: 0.0605\n",
            "Epoch 83/100\n",
            "\u001b[1m15/15\u001b[0m \u001b[32m━━━━━━━━━━━━━━━━━━━━\u001b[0m\u001b[37m\u001b[0m \u001b[1m0s\u001b[0m 21ms/step - loss: 5.0144e-04 - mean_absolute_error: 0.0179 - root_mean_squared_error: 0.0278 - val_loss: 0.0016 - val_mean_absolute_error: 0.0532 - val_root_mean_squared_error: 0.0551\n",
            "Epoch 84/100\n",
            "\u001b[1m15/15\u001b[0m \u001b[32m━━━━━━━━━━━━━━━━━━━━\u001b[0m\u001b[37m\u001b[0m \u001b[1m0s\u001b[0m 22ms/step - loss: 3.8937e-04 - mean_absolute_error: 0.0169 - root_mean_squared_error: 0.0236 - val_loss: 0.0024 - val_mean_absolute_error: 0.0626 - val_root_mean_squared_error: 0.0670\n",
            "Epoch 85/100\n",
            "\u001b[1m15/15\u001b[0m \u001b[32m━━━━━━━━━━━━━━━━━━━━\u001b[0m\u001b[37m\u001b[0m \u001b[1m1s\u001b[0m 20ms/step - loss: 3.9330e-04 - mean_absolute_error: 0.0151 - root_mean_squared_error: 0.0240 - val_loss: 0.0011 - val_mean_absolute_error: 0.0409 - val_root_mean_squared_error: 0.0438\n",
            "Epoch 86/100\n",
            "\u001b[1m15/15\u001b[0m \u001b[32m━━━━━━━━━━━━━━━━━━━━\u001b[0m\u001b[37m\u001b[0m \u001b[1m0s\u001b[0m 20ms/step - loss: 4.2076e-04 - mean_absolute_error: 0.0159 - root_mean_squared_error: 0.0251 - val_loss: 0.0017 - val_mean_absolute_error: 0.0530 - val_root_mean_squared_error: 0.0566\n",
            "Epoch 87/100\n",
            "\u001b[1m15/15\u001b[0m \u001b[32m━━━━━━━━━━━━━━━━━━━━\u001b[0m\u001b[37m\u001b[0m \u001b[1m1s\u001b[0m 29ms/step - loss: 4.6601e-04 - mean_absolute_error: 0.0174 - root_mean_squared_error: 0.0268 - val_loss: 0.0029 - val_mean_absolute_error: 0.0681 - val_root_mean_squared_error: 0.0739\n",
            "Epoch 88/100\n",
            "\u001b[1m13/15\u001b[0m \u001b[32m━━━━━━━━━━━━━━━━━\u001b[0m\u001b[37m━━━\u001b[0m \u001b[1m0s\u001b[0m 22ms/step - loss: 4.5699e-04 - mean_absolute_error: 0.0163 - root_mean_squared_error: 0.0256"
          ]
        },
        {
          "output_type": "stream",
          "name": "stderr",
          "text": [
            "WARNING:absl:You are saving your model as an HDF5 file via `model.save()` or `keras.saving.save_model(model)`. This file format is considered legacy. We recommend using instead the native Keras format, e.g. `model.save('my_model.keras')` or `keras.saving.save_model(model, 'my_model.keras')`. \n"
          ]
        },
        {
          "output_type": "stream",
          "name": "stdout",
          "text": [
            "\b\b\b\b\b\b\b\b\b\b\b\b\b\b\b\b\b\b\b\b\b\b\b\b\b\b\b\b\b\b\b\b\b\b\b\b\b\b\b\b\b\b\b\b\b\b\b\b\b\b\b\b\b\b\b\b\b\b\b\b\b\b\b\b\b\b\b\b\b\b\b\b\b\b\b\b\b\b\b\b\b\b\b\b\b\b\b\b\b\b\b\b\b\b\b\b\b\b\b\b\b\b\b\b\b\b\b\b\b\b\b\b\b\b\b\b\b\b\b\b\b\b\r\u001b[1m15/15\u001b[0m \u001b[32m━━━━━━━━━━━━━━━━━━━━\u001b[0m\u001b[37m\u001b[0m \u001b[1m1s\u001b[0m 38ms/step - loss: 4.5916e-04 - mean_absolute_error: 0.0164 - root_mean_squared_error: 0.0257 - val_loss: 3.5254e-04 - val_mean_absolute_error: 0.0157 - val_root_mean_squared_error: 0.0216\n",
            "Epoch 89/100\n",
            "\u001b[1m15/15\u001b[0m \u001b[32m━━━━━━━━━━━━━━━━━━━━\u001b[0m\u001b[37m\u001b[0m \u001b[1m0s\u001b[0m 29ms/step - loss: 4.6537e-04 - mean_absolute_error: 0.0186 - root_mean_squared_error: 0.0266 - val_loss: 0.0020 - val_mean_absolute_error: 0.0592 - val_root_mean_squared_error: 0.0611\n",
            "Epoch 90/100\n",
            "\u001b[1m15/15\u001b[0m \u001b[32m━━━━━━━━━━━━━━━━━━━━\u001b[0m\u001b[37m\u001b[0m \u001b[1m1s\u001b[0m 34ms/step - loss: 3.9503e-04 - mean_absolute_error: 0.0168 - root_mean_squared_error: 0.0242 - val_loss: 7.9910e-04 - val_mean_absolute_error: 0.0356 - val_root_mean_squared_error: 0.0370\n",
            "Epoch 91/100\n",
            "\u001b[1m15/15\u001b[0m \u001b[32m━━━━━━━━━━━━━━━━━━━━\u001b[0m\u001b[37m\u001b[0m \u001b[1m1s\u001b[0m 30ms/step - loss: 5.0592e-04 - mean_absolute_error: 0.0179 - root_mean_squared_error: 0.0282 - val_loss: 0.0011 - val_mean_absolute_error: 0.0425 - val_root_mean_squared_error: 0.0446\n",
            "Epoch 92/100\n",
            "\u001b[1m15/15\u001b[0m \u001b[32m━━━━━━━━━━━━━━━━━━━━\u001b[0m\u001b[37m\u001b[0m \u001b[1m0s\u001b[0m 21ms/step - loss: 4.1414e-04 - mean_absolute_error: 0.0173 - root_mean_squared_error: 0.0250 - val_loss: 0.0013 - val_mean_absolute_error: 0.0461 - val_root_mean_squared_error: 0.0486\n",
            "Epoch 93/100\n",
            "\u001b[1m15/15\u001b[0m \u001b[32m━━━━━━━━━━━━━━━━━━━━\u001b[0m\u001b[37m\u001b[0m \u001b[1m1s\u001b[0m 20ms/step - loss: 3.8026e-04 - mean_absolute_error: 0.0142 - root_mean_squared_error: 0.0234 - val_loss: 4.9523e-04 - val_mean_absolute_error: 0.0252 - val_root_mean_squared_error: 0.0279\n",
            "Epoch 94/100\n",
            "\u001b[1m15/15\u001b[0m \u001b[32m━━━━━━━━━━━━━━━━━━━━\u001b[0m\u001b[37m\u001b[0m \u001b[1m1s\u001b[0m 22ms/step - loss: 3.8591e-04 - mean_absolute_error: 0.0153 - root_mean_squared_error: 0.0238 - val_loss: 0.0017 - val_mean_absolute_error: 0.0543 - val_root_mean_squared_error: 0.0565\n",
            "Epoch 95/100\n",
            "\u001b[1m15/15\u001b[0m \u001b[32m━━━━━━━━━━━━━━━━━━━━\u001b[0m\u001b[37m\u001b[0m \u001b[1m0s\u001b[0m 22ms/step - loss: 3.2272e-04 - mean_absolute_error: 0.0145 - root_mean_squared_error: 0.0211 - val_loss: 0.0010 - val_mean_absolute_error: 0.0402 - val_root_mean_squared_error: 0.0433\n",
            "Epoch 96/100\n",
            "\u001b[1m15/15\u001b[0m \u001b[32m━━━━━━━━━━━━━━━━━━━━\u001b[0m\u001b[37m\u001b[0m \u001b[1m1s\u001b[0m 22ms/step - loss: 4.7532e-04 - mean_absolute_error: 0.0162 - root_mean_squared_error: 0.0270 - val_loss: 7.2886e-04 - val_mean_absolute_error: 0.0330 - val_root_mean_squared_error: 0.0353\n",
            "Epoch 97/100\n",
            "\u001b[1m15/15\u001b[0m \u001b[32m━━━━━━━━━━━━━━━━━━━━\u001b[0m\u001b[37m\u001b[0m \u001b[1m1s\u001b[0m 20ms/step - loss: 3.8901e-04 - mean_absolute_error: 0.0161 - root_mean_squared_error: 0.0239 - val_loss: 0.0013 - val_mean_absolute_error: 0.0472 - val_root_mean_squared_error: 0.0490\n",
            "Epoch 98/100\n",
            "\u001b[1m15/15\u001b[0m \u001b[32m━━━━━━━━━━━━━━━━━━━━\u001b[0m\u001b[37m\u001b[0m \u001b[1m0s\u001b[0m 21ms/step - loss: 3.5335e-04 - mean_absolute_error: 0.0147 - root_mean_squared_error: 0.0224 - val_loss: 0.0013 - val_mean_absolute_error: 0.0459 - val_root_mean_squared_error: 0.0481\n",
            "Epoch 99/100\n",
            "\u001b[1m15/15\u001b[0m \u001b[32m━━━━━━━━━━━━━━━━━━━━\u001b[0m\u001b[37m\u001b[0m \u001b[1m0s\u001b[0m 21ms/step - loss: 3.6465e-04 - mean_absolute_error: 0.0151 - root_mean_squared_error: 0.0232 - val_loss: 0.0014 - val_mean_absolute_error: 0.0480 - val_root_mean_squared_error: 0.0512\n",
            "Epoch 100/100\n",
            "\u001b[1m15/15\u001b[0m \u001b[32m━━━━━━━━━━━━━━━━━━━━\u001b[0m\u001b[37m\u001b[0m \u001b[1m0s\u001b[0m 22ms/step - loss: 4.5118e-04 - mean_absolute_error: 0.0146 - root_mean_squared_error: 0.0266 - val_loss: 6.4236e-04 - val_mean_absolute_error: 0.0306 - val_root_mean_squared_error: 0.0329\n",
            "\n",
            "Verificación dimensional:\n",
            "X_train shape: (944, 60, 4) → (muestras, window_size, features)\n",
            "y_train shape: (944, 1) → (muestras, horizonte_predicción)\n",
            "Input del modelo: (None, 60, 4) → (batch_size, 60, 4)\n"
          ]
        }
      ]
    },
    {
      "cell_type": "code",
      "source": [
        "# Gráfico de Función de Pérdida\n",
        "plt.figure(figsize=(12, 6))\n",
        "plt.plot(history.history['loss'], label='Train Loss')\n",
        "plt.plot(history.history['val_loss'], label='Validation Loss')\n",
        "plt.title('Evolución de la Función de Pérdida')\n",
        "plt.xlabel('Épocas')\n",
        "plt.ylabel('Huber Loss')\n",
        "plt.legend()\n",
        "plt.grid(True)\n",
        "plt.show()"
      ],
      "metadata": {
        "colab": {
          "base_uri": "https://localhost:8080/",
          "height": 566
        },
        "id": "gMvwqJV7ZezY",
        "outputId": "08ad6a59-d4db-4535-c350-43700e3cc5c9"
      },
      "execution_count": 68,
      "outputs": [
        {
          "output_type": "display_data",
          "data": {
            "text/plain": [
              "<Figure size 1200x600 with 1 Axes>"
            ],
            "image/png": "[encoded data removed]"
          },
          "metadata": {}
        }
      ]
    },
    {
      "cell_type": "code",
      "source": [
        "def predict_future(model, last_window, scaler, n_steps=7, feature_columns=['close', 'returns', 'volatility', 'volume_usd']):\n",
        "    \"\"\"\n",
        "    Predice los próximos 'n_steps' días usando el último window_size disponible.\n",
        "\n",
        "    Args:\n",
        "        model: Modelo entrenado\n",
        "        last_window: Última ventana de datos (shape: (window_size, n_features))\n",
        "        scaler: Scaler usado originalmente\n",
        "        n_steps: Días a predecir\n",
        "        feature_columns: Columnas usadas en el modelo\n",
        "\n",
        "    Returns:\n",
        "        Lista de predicciones en escala original\n",
        "    \"\"\"\n",
        "    predictions = []\n",
        "    current_window = last_window.copy()\n",
        "\n",
        "    for _ in range(n_steps):\n",
        "        # Predecir siguiente paso\n",
        "        scaled_pred = model.predict(current_window[np.newaxis, :, :])[0, 0]\n",
        "\n",
        "        # Inversa del scaler para obtener valor real\n",
        "        dummy_data = np.zeros((1, len(feature_columns)))\n",
        "        dummy_data[0, 0] = scaled_pred  # Asigna solo 'close'\n",
        "        real_pred = scaler.inverse_transform(dummy_data)[0, 0]\n",
        "        predictions.append(real_pred)\n",
        "\n",
        "        # Actualizar ventana\n",
        "        new_row = current_window[-1, :].copy()\n",
        "        new_row[0] = scaled_pred  # Actualiza 'close'\n",
        "        new_row[1] = (scaled_pred - current_window[-1, 0]) / current_window[-1, 0]  # Calcula nuevo retorno\n",
        "        new_row[2] = np.std([row[1] for row in current_window[-30:]])  # Actualiza volatilidad (30 días)\n",
        "        # Volume se mantiene igual al último valor conocido\n",
        "\n",
        "        current_window = np.vstack([current_window[1:], new_row])\n",
        "\n",
        "    return predictions\n",
        "\n",
        "# Uso de la predicción futura\n",
        "last_window_scaled = X_test[-1]  # Última ventana de test\n",
        "future_predictions = predict_future(model, last_window_scaled, scaler, n_steps=7)\n",
        "\n",
        "print(\"\\nPredicciones próximos 7 días:\")\n",
        "print(pd.Series(future_predictions, name='Close Predicho'))\n"
      ],
      "metadata": {
        "colab": {
          "base_uri": "https://localhost:8080/"
        },
        "id": "nWROdbg-fqTu",
        "outputId": "37fbf30b-d37b-42f2-8ffc-43ebb46e10f5"
      },
      "execution_count": 69,
      "outputs": [
        {
          "output_type": "stream",
          "name": "stdout",
          "text": [
            "\u001b[1m1/1\u001b[0m \u001b[32m━━━━━━━━━━━━━━━━━━━━\u001b[0m\u001b[37m\u001b[0m \u001b[1m0s\u001b[0m 316ms/step\n",
            "\u001b[1m1/1\u001b[0m \u001b[32m━━━━━━━━━━━━━━━━━━━━\u001b[0m\u001b[37m\u001b[0m \u001b[1m0s\u001b[0m 34ms/step\n",
            "\u001b[1m1/1\u001b[0m \u001b[32m━━━━━━━━━━━━━━━━━━━━\u001b[0m\u001b[37m\u001b[0m \u001b[1m0s\u001b[0m 38ms/step\n",
            "\u001b[1m1/1\u001b[0m \u001b[32m━━━━━━━━━━━━━━━━━━━━\u001b[0m\u001b[37m\u001b[0m \u001b[1m0s\u001b[0m 35ms/step\n",
            "\u001b[1m1/1\u001b[0m \u001b[32m━━━━━━━━━━━━━━━━━━━━\u001b[0m\u001b[37m\u001b[0m \u001b[1m0s\u001b[0m 32ms/step\n",
            "\u001b[1m1/1\u001b[0m \u001b[32m━━━━━━━━━━━━━━━━━━━━\u001b[0m\u001b[37m\u001b[0m \u001b[1m0s\u001b[0m 31ms/step\n",
            "\u001b[1m1/1\u001b[0m \u001b[32m━━━━━━━━━━━━━━━━━━━━\u001b[0m\u001b[37m\u001b[0m \u001b[1m0s\u001b[0m 30ms/step\n",
            "\n",
            "Predicciones próximos 7 días:\n",
            "0     48.351809\n",
            "1    920.926364\n",
            "2    916.802489\n",
            "3    846.375973\n",
            "4    760.672882\n",
            "5    670.346484\n",
            "6    581.295812\n",
            "Name: Close Predicho, dtype: float64\n"
          ]
        }
      ]
    }
  ]
}